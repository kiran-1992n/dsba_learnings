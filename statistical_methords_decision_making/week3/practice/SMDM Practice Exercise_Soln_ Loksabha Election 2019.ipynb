{
 "cells": [
  {
   "cell_type": "code",
   "execution_count": 1,
   "metadata": {},
   "outputs": [],
   "source": [
    "import numpy as np\n",
    "import pandas as pd\n",
    "pd.set_option('display.float_format', lambda x: '%.2f' % x)\n",
    "import scipy.stats as stats\n",
    "import matplotlib.pyplot as plt"
   ]
  },
  {
   "cell_type": "code",
   "execution_count": 2,
   "metadata": {},
   "outputs": [],
   "source": [
    "df = pd.read_csv('Lok+Sabha_2019.csv')"
   ]
  },
  {
   "cell_type": "code",
   "execution_count": 3,
   "metadata": {
    "scrolled": true
   },
   "outputs": [
    {
     "data": {
      "text/html": [
       "<div>\n",
       "<style scoped>\n",
       "    .dataframe tbody tr th:only-of-type {\n",
       "        vertical-align: middle;\n",
       "    }\n",
       "\n",
       "    .dataframe tbody tr th {\n",
       "        vertical-align: top;\n",
       "    }\n",
       "\n",
       "    .dataframe thead th {\n",
       "        text-align: right;\n",
       "    }\n",
       "</style>\n",
       "<table border=\"1\" class=\"dataframe\">\n",
       "  <thead>\n",
       "    <tr style=\"text-align: right;\">\n",
       "      <th></th>\n",
       "      <th>STATE</th>\n",
       "      <th>CONSTITUENCY</th>\n",
       "      <th>NAME</th>\n",
       "      <th>WINNER</th>\n",
       "      <th>PARTY</th>\n",
       "      <th>SYMBOL</th>\n",
       "      <th>GENDER</th>\n",
       "      <th>CRIMINAL CASES</th>\n",
       "      <th>AGE</th>\n",
       "      <th>CATEGORY</th>\n",
       "      <th>EDUCATION</th>\n",
       "      <th>ASSETS</th>\n",
       "      <th>LIABILITIES</th>\n",
       "      <th>GENERAL VOTES</th>\n",
       "      <th>POSTAL VOTES</th>\n",
       "      <th>TOTAL VOTES</th>\n",
       "      <th>OVER TOTAL ELECTORS IN CONSTITUENCY</th>\n",
       "      <th>OVER TOTAL VOTES POLLED IN CONSTITUENCY</th>\n",
       "      <th>TOTAL ELECTORS</th>\n",
       "    </tr>\n",
       "  </thead>\n",
       "  <tbody>\n",
       "    <tr>\n",
       "      <th>0</th>\n",
       "      <td>Telangana</td>\n",
       "      <td>ADILABAD</td>\n",
       "      <td>SOYAM BAPU RAO</td>\n",
       "      <td>1</td>\n",
       "      <td>BJP</td>\n",
       "      <td>Lotus</td>\n",
       "      <td>MALE</td>\n",
       "      <td>52.00</td>\n",
       "      <td>52</td>\n",
       "      <td>ST</td>\n",
       "      <td>Basic Level</td>\n",
       "      <td>3099414.00</td>\n",
       "      <td>231450.00</td>\n",
       "      <td>376892</td>\n",
       "      <td>482</td>\n",
       "      <td>377374</td>\n",
       "      <td>25.33</td>\n",
       "      <td>35.47</td>\n",
       "      <td>1489790</td>\n",
       "    </tr>\n",
       "    <tr>\n",
       "      <th>1</th>\n",
       "      <td>Telangana</td>\n",
       "      <td>ADILABAD</td>\n",
       "      <td>Godam Nagesh</td>\n",
       "      <td>0</td>\n",
       "      <td>TRS</td>\n",
       "      <td>Car</td>\n",
       "      <td>MALE</td>\n",
       "      <td>0.00</td>\n",
       "      <td>54</td>\n",
       "      <td>ST</td>\n",
       "      <td>Post Graduate</td>\n",
       "      <td>18477888.00</td>\n",
       "      <td>847000.00</td>\n",
       "      <td>318665</td>\n",
       "      <td>149</td>\n",
       "      <td>318814</td>\n",
       "      <td>21.40</td>\n",
       "      <td>29.96</td>\n",
       "      <td>1489790</td>\n",
       "    </tr>\n",
       "    <tr>\n",
       "      <th>2</th>\n",
       "      <td>Telangana</td>\n",
       "      <td>ADILABAD</td>\n",
       "      <td>RATHOD RAMESH</td>\n",
       "      <td>0</td>\n",
       "      <td>INC</td>\n",
       "      <td>Hand</td>\n",
       "      <td>MALE</td>\n",
       "      <td>3.00</td>\n",
       "      <td>52</td>\n",
       "      <td>ST</td>\n",
       "      <td>Basic Level</td>\n",
       "      <td>36491000.00</td>\n",
       "      <td>15300000.00</td>\n",
       "      <td>314057</td>\n",
       "      <td>181</td>\n",
       "      <td>314238</td>\n",
       "      <td>21.09</td>\n",
       "      <td>29.53</td>\n",
       "      <td>1489790</td>\n",
       "    </tr>\n",
       "    <tr>\n",
       "      <th>3</th>\n",
       "      <td>Uttar Pradesh</td>\n",
       "      <td>AGRA</td>\n",
       "      <td>Satyapal Singh Baghel</td>\n",
       "      <td>1</td>\n",
       "      <td>BJP</td>\n",
       "      <td>Lotus</td>\n",
       "      <td>MALE</td>\n",
       "      <td>5.00</td>\n",
       "      <td>58</td>\n",
       "      <td>SC</td>\n",
       "      <td>Doctorate</td>\n",
       "      <td>74274036.00</td>\n",
       "      <td>8606522.00</td>\n",
       "      <td>644459</td>\n",
       "      <td>2416</td>\n",
       "      <td>646875</td>\n",
       "      <td>33.38</td>\n",
       "      <td>56.46</td>\n",
       "      <td>1937690</td>\n",
       "    </tr>\n",
       "    <tr>\n",
       "      <th>4</th>\n",
       "      <td>Uttar Pradesh</td>\n",
       "      <td>AGRA</td>\n",
       "      <td>Manoj Kumar Soni</td>\n",
       "      <td>0</td>\n",
       "      <td>BSP</td>\n",
       "      <td>Elephant</td>\n",
       "      <td>MALE</td>\n",
       "      <td>0.00</td>\n",
       "      <td>47</td>\n",
       "      <td>SC</td>\n",
       "      <td>Post Graduate</td>\n",
       "      <td>133784385.00</td>\n",
       "      <td>22251891.00</td>\n",
       "      <td>434199</td>\n",
       "      <td>1130</td>\n",
       "      <td>435329</td>\n",
       "      <td>22.47</td>\n",
       "      <td>38.00</td>\n",
       "      <td>1937690</td>\n",
       "    </tr>\n",
       "  </tbody>\n",
       "</table>\n",
       "</div>"
      ],
      "text/plain": [
       "           STATE CONSTITUENCY                   NAME  WINNER PARTY    SYMBOL  \\\n",
       "0      Telangana     ADILABAD         SOYAM BAPU RAO       1   BJP     Lotus   \n",
       "1      Telangana     ADILABAD           Godam Nagesh       0   TRS       Car   \n",
       "2      Telangana     ADILABAD          RATHOD RAMESH       0   INC      Hand   \n",
       "3  Uttar Pradesh         AGRA  Satyapal Singh Baghel       1   BJP     Lotus   \n",
       "4  Uttar Pradesh         AGRA       Manoj Kumar Soni       0   BSP  Elephant   \n",
       "\n",
       "  GENDER  CRIMINAL CASES  AGE CATEGORY      EDUCATION       ASSETS  \\\n",
       "0   MALE           52.00   52       ST    Basic Level   3099414.00   \n",
       "1   MALE            0.00   54       ST  Post Graduate  18477888.00   \n",
       "2   MALE            3.00   52       ST    Basic Level  36491000.00   \n",
       "3   MALE            5.00   58       SC      Doctorate  74274036.00   \n",
       "4   MALE            0.00   47       SC  Post Graduate 133784385.00   \n",
       "\n",
       "   LIABILITIES  GENERAL VOTES  POSTAL VOTES  TOTAL VOTES  \\\n",
       "0    231450.00         376892           482       377374   \n",
       "1    847000.00         318665           149       318814   \n",
       "2  15300000.00         314057           181       314238   \n",
       "3   8606522.00         644459          2416       646875   \n",
       "4  22251891.00         434199          1130       435329   \n",
       "\n",
       "   OVER TOTAL ELECTORS IN CONSTITUENCY  \\\n",
       "0                                25.33   \n",
       "1                                21.40   \n",
       "2                                21.09   \n",
       "3                                33.38   \n",
       "4                                22.47   \n",
       "\n",
       "   OVER TOTAL VOTES POLLED IN CONSTITUENCY  TOTAL ELECTORS  \n",
       "0                                    35.47         1489790  \n",
       "1                                    29.96         1489790  \n",
       "2                                    29.53         1489790  \n",
       "3                                    56.46         1937690  \n",
       "4                                    38.00         1937690  "
      ]
     },
     "execution_count": 3,
     "metadata": {},
     "output_type": "execute_result"
    }
   ],
   "source": [
    "df.head()"
   ]
  },
  {
   "cell_type": "markdown",
   "metadata": {},
   "source": [
    "# 3.1. After the elections, Association For Democratic Reforms(ADR) is responsible for analysing the data of the elections. In 2014 elections, they observed that the average assets declared by the candidates from the state of Bihar was around 5 crores. Before the 2019 elections, it claimed that this average amount of assets will be greater than the amount in 2014 for the Bihar candidates. State the null and alternate hypothesis. Perform an appropriate statistical test to verify the claim made by ADR. Decide whether the null hypothesis is supported or refuted. (use, alpha = 0.05)"
   ]
  },
  {
   "cell_type": "markdown",
   "metadata": {},
   "source": [
    "##  Step 1:\n",
    "H0: Avg. Assets for a Bihar candidate <= 5 crore\n",
    "\n",
    "H1: Avg. Assets for a Bihar candidate > 5 crore"
   ]
  },
  {
   "cell_type": "code",
   "execution_count": 4,
   "metadata": {},
   "outputs": [
    {
     "data": {
      "text/plain": [
       "array([5.01057700e+06, 7.66183660e+07, 7.99717200e+07, 6.82315000e+05,\n",
       "       3.19657200e+06, 4.43781900e+06, 1.67895109e+08, 1.26741770e+07,\n",
       "       2.03943700e+07, 8.38925000e+06, 6.00660000e+06, 1.27500000e+06,\n",
       "       3.71785600e+06, 1.55000000e+05, 1.43780000e+08, 1.98160500e+07,\n",
       "       6.87399320e+07, 5.38016290e+07, 4.15000000e+04, 7.34149000e+06,\n",
       "       2.60527300e+06, 1.68623610e+07, 8.30245770e+07, 5.57848000e+05,\n",
       "       1.54831360e+07, 2.01737000e+06, 6.80112600e+06, 3.03648080e+07,\n",
       "       4.01836120e+07, 3.58712420e+07, 9.63251400e+06, 6.95070000e+05,\n",
       "       1.93018080e+07, 2.11277160e+07, 5.74658000e+05, 7.76107400e+06,\n",
       "       1.27661410e+07, 3.59415600e+06, 4.54581300e+06, 4.08003400e+06,\n",
       "       4.14000000e+05, 3.53400000e+06, 1.82200000e+06, 9.86000000e+05,\n",
       "       8.19143700e+06, 1.35315000e+05, 1.69462200e+06, 3.27399030e+07,\n",
       "       8.19560600e+06, 2.00000000e+05, 6.95936500e+06, 4.06900000e+06,\n",
       "       1.10190000e+07, 6.28342000e+07, 1.86309150e+07, 2.70000000e+04,\n",
       "       1.20526300e+06, 1.10214330e+07, 1.08260000e+06, 1.39271693e+08,\n",
       "       8.73523460e+07, 6.94739600e+07, 4.15800000e+05, 3.69299750e+07,\n",
       "       2.55361300e+06, 9.12002858e+08, 1.84660660e+07, 1.77230000e+07,\n",
       "       1.77000000e+06, 2.15376940e+07, 8.81000000e+06, 8.81196860e+07,\n",
       "       9.68215120e+07, 5.58238500e+06, 1.14238060e+07, 3.14383100e+06,\n",
       "       4.53058380e+07, 4.34420510e+07, 3.10341130e+07, 1.33811900e+07,\n",
       "       7.42091100e+06, 6.21955000e+05, 3.94500000e+06, 1.33027340e+07,\n",
       "       1.19291973e+08, 1.09788313e+08, 1.19699803e+08, 3.21000000e+05,\n",
       "       6.03000000e+05, 5.66260000e+05, 7.05100000e+06, 1.51950000e+06,\n",
       "       9.09738030e+07, 1.98549300e+07, 7.26289000e+06, 5.07291000e+05,\n",
       "       3.74209530e+07, 8.15336900e+07, 1.19543561e+08, 1.12763220e+07,\n",
       "       4.66991250e+07, 2.68021960e+07, 1.08740830e+07, 7.57606000e+05,\n",
       "       1.89200000e+05, 1.04519860e+07, 3.91123110e+07, 7.98253950e+07,\n",
       "       3.56231270e+07, 1.34590000e+07, 8.83248660e+07, 6.21659689e+08,\n",
       "       1.25459720e+07, 1.15259500e+06, 4.64986000e+05, 1.59500000e+06,\n",
       "       4.40700000e+06, 2.98867486e+08, 7.16000000e+07, 2.02523800e+06,\n",
       "       8.67800000e+06, 2.92516510e+07, 5.67868450e+07, 4.51458000e+06,\n",
       "       3.27300000e+06, 2.56200000e+06, 5.92000000e+05, 1.76720167e+08,\n",
       "       1.18431743e+08, 6.28835100e+06, 4.34390000e+07, 1.99404885e+08,\n",
       "       1.44190332e+08, 3.13720100e+06, 9.48960000e+05, 2.92134670e+07,\n",
       "       7.56132650e+07, 4.80388300e+06, 2.35275591e+08, 1.93545976e+09,\n",
       "       4.10362940e+07, 3.41864397e+09, 6.01416000e+05, 4.58449000e+05,\n",
       "       6.14970000e+07, 3.37913750e+07, 2.59550000e+06, 2.10000000e+05,\n",
       "       2.59720000e+06, 2.90251911e+08, 1.73759750e+07, 2.03966900e+07,\n",
       "       5.93059000e+05, 1.43273400e+06, 1.62812100e+06, 2.54050000e+06,\n",
       "       3.30000000e+04, 8.07403490e+07, 9.69449800e+07, 1.10000000e+04,\n",
       "       7.69800100e+06, 3.21522500e+07, 4.75194636e+08, 8.86406000e+06,\n",
       "       8.16680000e+05, 3.28364940e+08, 2.55265900e+07, 1.77411020e+07,\n",
       "       4.06900800e+06, 6.32452700e+06, 2.24475160e+07, 1.54508600e+06,\n",
       "       2.30250000e+06, 6.07170310e+07, 1.89882810e+07, 8.04541100e+06,\n",
       "       5.39731000e+05, 2.27760700e+06, 5.83378400e+06, 1.93252640e+07,\n",
       "       1.39078374e+08, 8.08990100e+06, 1.41307800e+06, 5.14600000e+06,\n",
       "       2.34416060e+07, 1.19543561e+08, 7.37042300e+06, 6.80000000e+05,\n",
       "       7.52500000e+06, 6.85000000e+06, 2.06610000e+06, 6.08080000e+07,\n",
       "       1.87007570e+08, 2.44415200e+07, 9.48139800e+06, 2.56145000e+06,\n",
       "       1.21000000e+05, 2.93826300e+06, 4.31545900e+06, 7.69600000e+06,\n",
       "       3.37284632e+08, 7.85736700e+06, 5.39667000e+06, 1.59500000e+06,\n",
       "       7.07351500e+06, 2.50760000e+07, 1.79348880e+07, 2.14704560e+07,\n",
       "       5.69431975e+08, 4.64546400e+06, 1.55163000e+07, 4.17800000e+07])"
      ]
     },
     "execution_count": 4,
     "metadata": {},
     "output_type": "execute_result"
    }
   ],
   "source": [
    "# Filterout Assets of only bihar Candidates\n",
    "assets_data = np.array(df[df['STATE']=='Bihar']['ASSETS'].dropna())\n",
    "assets_data"
   ]
  },
  {
   "cell_type": "code",
   "execution_count": 6,
   "metadata": {},
   "outputs": [],
   "source": [
    "## Step 2\n",
    "\n",
    "tstat,pvalue = stats.ttest_1samp(assets_data,50000000)"
   ]
  },
  {
   "cell_type": "code",
   "execution_count": 7,
   "metadata": {},
   "outputs": [
    {
     "data": {
      "text/plain": [
       "0.30884189228789083"
      ]
     },
     "execution_count": 7,
     "metadata": {},
     "output_type": "execute_result"
    }
   ],
   "source": [
    "pvalue"
   ]
  },
  {
   "cell_type": "code",
   "execution_count": 8,
   "metadata": {},
   "outputs": [
    {
     "name": "stdout",
     "output_type": "stream",
     "text": [
      "So, the p-value will be: 0.15442094614394541\n"
     ]
    }
   ],
   "source": [
    "# In our case we evaluate mu > 5Cr so its 1 sided test. p-value fount above is for 2-sided test.\n",
    "\n",
    "print('So, the p-value will be:',pvalue/2)"
   ]
  },
  {
   "cell_type": "markdown",
   "metadata": {},
   "source": [
    "## Alternate Methord"
   ]
  },
  {
   "cell_type": "code",
   "execution_count": 10,
   "metadata": {},
   "outputs": [],
   "source": [
    "mu = 50000000\n",
    "xbar = assets_data.mean()\n",
    "samp_std_dev = np.std(assets_data,ddof = 1)\n",
    "n = len(assets_data)\n",
    "t_stat = (xbar - mu) / (samp_std_dev/np.sqrt(n))\n",
    "t_crit = stats.t.isf(0.05,n-1,loc = 50000000)\n",
    "p_value = stats.t.sf(t_stat,n-1)\n",
    "alpha = stats.t.sf(t_crit,n-1,50000000)"
   ]
  },
  {
   "cell_type": "code",
   "execution_count": 11,
   "metadata": {},
   "outputs": [
    {
     "data": {
      "text/plain": [
       "0.15442094614394541"
      ]
     },
     "execution_count": 11,
     "metadata": {},
     "output_type": "execute_result"
    }
   ],
   "source": [
    "p_value"
   ]
  },
  {
   "cell_type": "markdown",
   "metadata": {},
   "source": [
    "As we can see, the pvalue is > 0.05. So, we do not have enough evidence to prove that the average assets for a Bihar candidate will be greater than 5 crore. Hence, we fail to reject the null hypothesis."
   ]
  },
  {
   "cell_type": "markdown",
   "metadata": {},
   "source": [
    "# 3.2. It is assumed that the candidates from state of Uttar Pradesh and West Bengal accounts for approximately same number of average total votes. The ADR wants to check whether this assumption can be refuted or not. Form the hypothesis and conduct the test of the hypothesis to test whether the assumption is true. What assumptions do you need to check before the test for equality of means is performed? (use, alpha = 0.05)"
   ]
  },
  {
   "cell_type": "markdown",
   "metadata": {},
   "source": [
    "H0: Avg. total votes for Uttar Pradesh candidates = Avg. total votes for West Bengal candidates\n",
    "\n",
    "H1: Avg. total votes for Uttar Pradesh candidates != Avg. total votes for West Bengal candidates\n",
    "\n",
    "** Alternate hypothesis cannot be taken for equal Sign."
   ]
  },
  {
   "cell_type": "markdown",
   "metadata": {},
   "source": [
    "To perform Hypothesis Testing, the following assumptions must hold,\n",
    "\n",
    "1) The variables must follow continious distribution\n",
    "2) The sample must be randomly collected from the population\n",
    "3) The underlying distribution must be normal. Alternatively, if the data is continious, but may not be assumed to follow a normal distribution, a reasonlably large sample size is required. CLT asserts that sample mean follows a normal distribution, even if the population distribution is not normal, when sample size is atleast 30.\n",
    "4) For 2 sample t-test, the population variances of 2 distributions must be equal."
   ]
  },
  {
   "cell_type": "code",
   "execution_count": 12,
   "metadata": {},
   "outputs": [],
   "source": [
    "up_data = np.array(df[df['STATE']=='Uttar Pradesh']['TOTAL VOTES'].dropna())\n",
    "wb_data = np.array(df[df['STATE']=='West Bengal']['TOTAL VOTES'].dropna())\n",
    "tstat,pvalue = stats.ttest_ind(up_data,wb_data,equal_var=True,nan_policy='omit')"
   ]
  },
  {
   "cell_type": "code",
   "execution_count": 13,
   "metadata": {},
   "outputs": [
    {
     "data": {
      "text/plain": [
       "0.5864954528648343"
      ]
     },
     "execution_count": 13,
     "metadata": {},
     "output_type": "execute_result"
    }
   ],
   "source": [
    "pvalue"
   ]
  },
  {
   "cell_type": "raw",
   "metadata": {},
   "source": [
    "As we can see, the pvalue is > 0.05. So, we do not have enough evidence to reject the null hypothesis. Hence, we cannot refute the assumption that the candidates from state of Uttar Pradesh and West Bengal account for approximately same number of average total votes."
   ]
  },
  {
   "cell_type": "code",
   "execution_count": null,
   "metadata": {},
   "outputs": [],
   "source": []
  }
 ],
 "metadata": {
  "kernelspec": {
   "display_name": "Python 3",
   "language": "python",
   "name": "python3"
  },
  "language_info": {
   "codemirror_mode": {
    "name": "ipython",
    "version": 3
   },
   "file_extension": ".py",
   "mimetype": "text/x-python",
   "name": "python",
   "nbconvert_exporter": "python",
   "pygments_lexer": "ipython3",
   "version": "3.8.8"
  }
 },
 "nbformat": 4,
 "nbformat_minor": 4
}
