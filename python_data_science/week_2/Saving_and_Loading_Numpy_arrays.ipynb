{
  "nbformat": 4,
  "nbformat_minor": 0,
  "metadata": {
    "colab": {
      "name": "Saving and Loading Numpy arrays.ipynb",
      "provenance": []
    },
    "kernelspec": {
      "name": "python3",
      "display_name": "Python 3"
    }
  },
  "cells": [
    {
      "cell_type": "code",
      "metadata": {
        "id": "KQG2NvM_TKcU"
      },
      "source": [
        "# the first step of using numpy is to tell python to use it\r\n",
        "import numpy as np"
      ],
      "execution_count": 11,
      "outputs": []
    },
    {
      "cell_type": "code",
      "metadata": {
        "colab": {
          "base_uri": "https://localhost:8080/"
        },
        "id": "acNgrMadaNLf",
        "outputId": "4465edbc-cb6b-4caa-de64-04131d794354"
      },
      "source": [
        "# we can also use numpy to generate samples of a random variable\r\n",
        "rand_mat = np.random.rand(5,5) # uniform random variable\r\n",
        "print(rand_mat)\r\n",
        "rand_mat2 = np.random.randn(10,5) # standard normal random variable\r\n",
        "print('')\r\n",
        "print(rand_mat2)"
      ],
      "execution_count": 12,
      "outputs": [
        {
          "output_type": "stream",
          "text": [
            "[[0.6914349  0.28403488 0.04767229 0.79506304 0.22721454]\n",
            " [0.96464686 0.34656614 0.02829875 0.11527242 0.43096111]\n",
            " [0.38134756 0.52728326 0.47051418 0.52668657 0.64533941]\n",
            " [0.22033774 0.29989817 0.41699305 0.56006916 0.63110271]\n",
            " [0.25249293 0.84167567 0.16652813 0.99574844 0.42793432]]\n",
            "\n",
            "[[-2.14214164e+00  1.03298696e+00 -6.76349023e-01 -5.00917244e-01\n",
            "  -2.29928002e+00]\n",
            " [-2.66488283e-01  7.84327972e-01 -1.56785057e-01 -1.59617057e+00\n",
            "  -1.73376459e+00]\n",
            " [-1.93573891e+00 -1.40537826e+00  1.51997998e-01  1.82225325e+00\n",
            "  -1.38727999e+00]\n",
            " [-9.78337913e-01  8.90743245e-01  7.74350468e-01  1.59649184e+00\n",
            "  -4.95004352e-01]\n",
            " [-6.82219352e-01  1.02444190e+00  4.65953443e-01  1.56236966e-01\n",
            "  -5.03992958e-01]\n",
            " [-2.05069582e+00 -1.68181010e-01 -1.39701699e+00  2.63005488e-01\n",
            "   1.91189064e+00]\n",
            " [ 7.78812530e-02  6.53430686e-01 -5.93441673e-01 -1.04038946e+00\n",
            "  -8.49868280e-01]\n",
            " [ 1.88846756e+00  6.03096970e-01 -5.96698748e-01 -6.48628274e-02\n",
            "  -6.89649147e-01]\n",
            " [ 2.20618728e-01  1.55070284e-01 -4.90105728e-01  9.56023741e-02\n",
            "  -5.51475499e-01]\n",
            " [-1.44449805e-01  1.15183484e+00 -1.23615141e-03  5.24845051e-01\n",
            "  -7.32228327e-01]]\n"
          ],
          "name": "stdout"
        }
      ]
    },
    {
      "cell_type": "code",
      "metadata": {
        "id": "XShpIIEFTL4w"
      },
      "source": [
        "# we can also access entries with logicals\r\n",
        "rand_vec = np.random.randn(15)"
      ],
      "execution_count": 3,
      "outputs": []
    },
    {
      "cell_type": "code",
      "metadata": {
        "colab": {
          "base_uri": "https://localhost:8080/"
        },
        "id": "A8mZnNrmZU_-",
        "outputId": "2aa6e7bb-2a0e-47e0-db04-294b9a3c860e"
      },
      "source": [
        "print(rand_vec)\r\n",
        "print(rand_vec>0)\r\n",
        "print(rand_vec[rand_vec>0])"
      ],
      "execution_count": 4,
      "outputs": [
        {
          "output_type": "stream",
          "text": [
            "[ 1.15923314  0.23746138 -0.08569279  1.38960624  0.850678    0.78549179\n",
            " -0.3389521  -0.44256761  0.75026777  0.11397131 -1.31483058 -1.31324139\n",
            "  0.02645342 -0.48639205 -0.84068126]\n",
            "[ True  True False  True  True  True False False  True  True False False\n",
            "  True False False]\n",
            "[1.15923314 0.23746138 1.38960624 0.850678   0.78549179 0.75026777\n",
            " 0.11397131 0.02645342]\n"
          ],
          "name": "stdout"
        }
      ]
    },
    {
      "cell_type": "code",
      "metadata": {
        "colab": {
          "base_uri": "https://localhost:8080/"
        },
        "id": "Uka4sN8gZXH1",
        "outputId": "06e38c0c-5863-4430-f0be-a1746f7d4294"
      },
      "source": [
        "print(rand_mat2)\r\n",
        "print(rand_mat2[rand_mat2>0])"
      ],
      "execution_count": 13,
      "outputs": [
        {
          "output_type": "stream",
          "text": [
            "[[-2.14214164e+00  1.03298696e+00 -6.76349023e-01 -5.00917244e-01\n",
            "  -2.29928002e+00]\n",
            " [-2.66488283e-01  7.84327972e-01 -1.56785057e-01 -1.59617057e+00\n",
            "  -1.73376459e+00]\n",
            " [-1.93573891e+00 -1.40537826e+00  1.51997998e-01  1.82225325e+00\n",
            "  -1.38727999e+00]\n",
            " [-9.78337913e-01  8.90743245e-01  7.74350468e-01  1.59649184e+00\n",
            "  -4.95004352e-01]\n",
            " [-6.82219352e-01  1.02444190e+00  4.65953443e-01  1.56236966e-01\n",
            "  -5.03992958e-01]\n",
            " [-2.05069582e+00 -1.68181010e-01 -1.39701699e+00  2.63005488e-01\n",
            "   1.91189064e+00]\n",
            " [ 7.78812530e-02  6.53430686e-01 -5.93441673e-01 -1.04038946e+00\n",
            "  -8.49868280e-01]\n",
            " [ 1.88846756e+00  6.03096970e-01 -5.96698748e-01 -6.48628274e-02\n",
            "  -6.89649147e-01]\n",
            " [ 2.20618728e-01  1.55070284e-01 -4.90105728e-01  9.56023741e-02\n",
            "  -5.51475499e-01]\n",
            " [-1.44449805e-01  1.15183484e+00 -1.23615141e-03  5.24845051e-01\n",
            "  -7.32228327e-01]]\n",
            "[1.03298696 0.78432797 0.151998   1.82225325 0.89074324 0.77435047\n",
            " 1.59649184 1.0244419  0.46595344 0.15623697 0.26300549 1.91189064\n",
            " 0.07788125 0.65343069 1.88846756 0.60309697 0.22061873 0.15507028\n",
            " 0.09560237 1.15183484 0.52484505]\n"
          ],
          "name": "stdout"
        }
      ]
    },
    {
      "cell_type": "code",
      "metadata": {
        "colab": {
          "base_uri": "https://localhost:8080/"
        },
        "id": "SamyQ1pbZYdF",
        "outputId": "bb68b9db-6001-4c60-aa92-5bf2df9021e6"
      },
      "source": [
        "print(rand_vec)\r\n",
        "print('')\r\n",
        "rand_vec[rand_vec>0.5] = -5\r\n",
        "print(rand_vec)"
      ],
      "execution_count": 14,
      "outputs": [
        {
          "output_type": "stream",
          "text": [
            "[-5.          0.23746138 -0.08569279 -5.         -5.         -5.\n",
            " -0.3389521  -0.44256761 -5.          0.11397131 -1.31483058 -1.31324139\n",
            "  0.02645342 -0.48639205 -0.84068126]\n",
            "\n",
            "[-5.          0.23746138 -0.08569279 -5.         -5.         -5.\n",
            " -0.3389521  -0.44256761 -5.          0.11397131 -1.31483058 -1.31324139\n",
            "  0.02645342 -0.48639205 -0.84068126]\n"
          ],
          "name": "stdout"
        }
      ]
    },
    {
      "cell_type": "code",
      "metadata": {
        "id": "CwwGnAEAZzuh"
      },
      "source": [
        "# let's save some arrays on the disk for use later!\r\n",
        "np.save('saved_file_name',rand_mat2)"
      ],
      "execution_count": 15,
      "outputs": []
    },
    {
      "cell_type": "code",
      "metadata": {
        "id": "5XB_aUaJZ3m5"
      },
      "source": [
        "np.savez('zipped_file_name',rand_mat=rand_mat,rand_mat2=rand_mat2)"
      ],
      "execution_count": 16,
      "outputs": []
    },
    {
      "cell_type": "code",
      "metadata": {
        "id": "4oN205cAZ-4k"
      },
      "source": [
        "# now let's load it\r\n",
        "loaded_vec = np.load('saved_file_name.npy')\r\n",
        "loaded_zip = np.load('zipped_file_name.npz')"
      ],
      "execution_count": 17,
      "outputs": []
    },
    {
      "cell_type": "code",
      "metadata": {
        "colab": {
          "base_uri": "https://localhost:8080/"
        },
        "id": "1K8elGxtaajl",
        "outputId": "90fb73d3-5fb1-440c-e792-ce3671f6a868"
      },
      "source": [
        "print(loaded_vec)\r\n",
        "print('')\r\n",
        "print(loaded_zip)"
      ],
      "execution_count": 18,
      "outputs": [
        {
          "output_type": "stream",
          "text": [
            "[[-2.14214164e+00  1.03298696e+00 -6.76349023e-01 -5.00917244e-01\n",
            "  -2.29928002e+00]\n",
            " [-2.66488283e-01  7.84327972e-01 -1.56785057e-01 -1.59617057e+00\n",
            "  -1.73376459e+00]\n",
            " [-1.93573891e+00 -1.40537826e+00  1.51997998e-01  1.82225325e+00\n",
            "  -1.38727999e+00]\n",
            " [-9.78337913e-01  8.90743245e-01  7.74350468e-01  1.59649184e+00\n",
            "  -4.95004352e-01]\n",
            " [-6.82219352e-01  1.02444190e+00  4.65953443e-01  1.56236966e-01\n",
            "  -5.03992958e-01]\n",
            " [-2.05069582e+00 -1.68181010e-01 -1.39701699e+00  2.63005488e-01\n",
            "   1.91189064e+00]\n",
            " [ 7.78812530e-02  6.53430686e-01 -5.93441673e-01 -1.04038946e+00\n",
            "  -8.49868280e-01]\n",
            " [ 1.88846756e+00  6.03096970e-01 -5.96698748e-01 -6.48628274e-02\n",
            "  -6.89649147e-01]\n",
            " [ 2.20618728e-01  1.55070284e-01 -4.90105728e-01  9.56023741e-02\n",
            "  -5.51475499e-01]\n",
            " [-1.44449805e-01  1.15183484e+00 -1.23615141e-03  5.24845051e-01\n",
            "  -7.32228327e-01]]\n",
            "\n",
            "<numpy.lib.npyio.NpzFile object at 0x7fd5a7fe5828>\n"
          ],
          "name": "stdout"
        }
      ]
    },
    {
      "cell_type": "code",
      "metadata": {
        "colab": {
          "base_uri": "https://localhost:8080/"
        },
        "id": "M-B99W-DadGp",
        "outputId": "3311b021-6b47-4be9-82bd-85fdd14af9c1"
      },
      "source": [
        "print(loaded_zip['rand_mat'])\r\n",
        "print('')\r\n",
        "print(loaded_zip['rand_mat2'])\r\n",
        "\r\n",
        "new_array  = loaded_zip['rand_mat']\r\n",
        "print(new_array)"
      ],
      "execution_count": 19,
      "outputs": [
        {
          "output_type": "stream",
          "text": [
            "[[0.6914349  0.28403488 0.04767229 0.79506304 0.22721454]\n",
            " [0.96464686 0.34656614 0.02829875 0.11527242 0.43096111]\n",
            " [0.38134756 0.52728326 0.47051418 0.52668657 0.64533941]\n",
            " [0.22033774 0.29989817 0.41699305 0.56006916 0.63110271]\n",
            " [0.25249293 0.84167567 0.16652813 0.99574844 0.42793432]]\n",
            "\n",
            "[[-2.14214164e+00  1.03298696e+00 -6.76349023e-01 -5.00917244e-01\n",
            "  -2.29928002e+00]\n",
            " [-2.66488283e-01  7.84327972e-01 -1.56785057e-01 -1.59617057e+00\n",
            "  -1.73376459e+00]\n",
            " [-1.93573891e+00 -1.40537826e+00  1.51997998e-01  1.82225325e+00\n",
            "  -1.38727999e+00]\n",
            " [-9.78337913e-01  8.90743245e-01  7.74350468e-01  1.59649184e+00\n",
            "  -4.95004352e-01]\n",
            " [-6.82219352e-01  1.02444190e+00  4.65953443e-01  1.56236966e-01\n",
            "  -5.03992958e-01]\n",
            " [-2.05069582e+00 -1.68181010e-01 -1.39701699e+00  2.63005488e-01\n",
            "   1.91189064e+00]\n",
            " [ 7.78812530e-02  6.53430686e-01 -5.93441673e-01 -1.04038946e+00\n",
            "  -8.49868280e-01]\n",
            " [ 1.88846756e+00  6.03096970e-01 -5.96698748e-01 -6.48628274e-02\n",
            "  -6.89649147e-01]\n",
            " [ 2.20618728e-01  1.55070284e-01 -4.90105728e-01  9.56023741e-02\n",
            "  -5.51475499e-01]\n",
            " [-1.44449805e-01  1.15183484e+00 -1.23615141e-03  5.24845051e-01\n",
            "  -7.32228327e-01]]\n",
            "[[0.6914349  0.28403488 0.04767229 0.79506304 0.22721454]\n",
            " [0.96464686 0.34656614 0.02829875 0.11527242 0.43096111]\n",
            " [0.38134756 0.52728326 0.47051418 0.52668657 0.64533941]\n",
            " [0.22033774 0.29989817 0.41699305 0.56006916 0.63110271]\n",
            " [0.25249293 0.84167567 0.16652813 0.99574844 0.42793432]]\n"
          ],
          "name": "stdout"
        }
      ]
    },
    {
      "cell_type": "code",
      "metadata": {
        "id": "ClaD0fvbaggY"
      },
      "source": [
        "# we can also save/load as text files...but only single variables\r\n",
        "np.savetxt('text_file_name.txt',rand_mat,delimiter=',')\r\n",
        "rand_mat_txt = np.loadtxt('text_file_name.txt',delimiter=',')\r\n",
        "print(rand_mat)\r\n",
        "print('')\r\n",
        "print(rand_mat_txt)"
      ],
      "execution_count": null,
      "outputs": []
    }
  ]
}