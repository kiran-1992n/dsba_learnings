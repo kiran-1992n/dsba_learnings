{
 "cells": [
  {
   "cell_type": "code",
   "execution_count": 1,
   "id": "8723b9c3",
   "metadata": {},
   "outputs": [],
   "source": [
    "import numpy as np\n",
    "import matplotlib.pyplot as plt\n",
    "import pandas as pd\n",
    "import seaborn as sns # for making plots with seaborn\n",
    "color = sns.color_palette()\n",
    "import sklearn.metrics as metrics\n",
    "\n",
    "import warnings\n",
    "warnings.filterwarnings(\"ignore\")"
   ]
  },
  {
   "cell_type": "code",
   "execution_count": 2,
   "id": "7b2a9f7c",
   "metadata": {},
   "outputs": [],
   "source": [
    "from sklearn.metrics import roc_auc_score\n",
    "from sklearn.metrics import roc_curve"
   ]
  },
  {
   "cell_type": "markdown",
   "id": "9c4e7f12",
   "metadata": {},
   "source": [
    "# Credit Risk Problem"
   ]
  },
  {
   "cell_type": "code",
   "execution_count": 3,
   "id": "f878f508",
   "metadata": {},
   "outputs": [],
   "source": [
    "df = pd.read_excel('Company_Data2015.xlsx')"
   ]
  },
  {
   "cell_type": "code",
   "execution_count": 4,
   "id": "5f360ff2",
   "metadata": {},
   "outputs": [
    {
     "data": {
      "text/html": [
       "<div>\n",
       "<style scoped>\n",
       "    .dataframe tbody tr th:only-of-type {\n",
       "        vertical-align: middle;\n",
       "    }\n",
       "\n",
       "    .dataframe tbody tr th {\n",
       "        vertical-align: top;\n",
       "    }\n",
       "\n",
       "    .dataframe thead th {\n",
       "        text-align: right;\n",
       "    }\n",
       "</style>\n",
       "<table border=\"1\" class=\"dataframe\">\n",
       "  <thead>\n",
       "    <tr style=\"text-align: right;\">\n",
       "      <th></th>\n",
       "      <th>Co_Code</th>\n",
       "      <th>Co_Name</th>\n",
       "      <th>Networth Next Year</th>\n",
       "      <th>Equity Paid Up</th>\n",
       "      <th>Networth</th>\n",
       "      <th>Capital Employed</th>\n",
       "      <th>Total Debt</th>\n",
       "      <th>Gross Block</th>\n",
       "      <th>Net Working Capital</th>\n",
       "      <th>Current Assets</th>\n",
       "      <th>...</th>\n",
       "      <th>PBIDTM (%)[Latest]</th>\n",
       "      <th>PBITM (%)[Latest]</th>\n",
       "      <th>PBDTM (%)[Latest]</th>\n",
       "      <th>CPM (%)[Latest]</th>\n",
       "      <th>APATM (%)[Latest]</th>\n",
       "      <th>Debtors Velocity (Days)</th>\n",
       "      <th>Creditors Velocity (Days)</th>\n",
       "      <th>Inventory Velocity (Days)</th>\n",
       "      <th>Value of Output/Total Assets</th>\n",
       "      <th>Value of Output/Gross Block</th>\n",
       "    </tr>\n",
       "  </thead>\n",
       "  <tbody>\n",
       "    <tr>\n",
       "      <th>0</th>\n",
       "      <td>16974</td>\n",
       "      <td>Hind.Cables</td>\n",
       "      <td>-8021.60</td>\n",
       "      <td>419.36</td>\n",
       "      <td>-7027.48</td>\n",
       "      <td>-1007.24</td>\n",
       "      <td>5936.03</td>\n",
       "      <td>474.30</td>\n",
       "      <td>-1076.34</td>\n",
       "      <td>40.50</td>\n",
       "      <td>...</td>\n",
       "      <td>0.00</td>\n",
       "      <td>0.00</td>\n",
       "      <td>0.00</td>\n",
       "      <td>0.00</td>\n",
       "      <td>0.00</td>\n",
       "      <td>0</td>\n",
       "      <td>0</td>\n",
       "      <td>45.0</td>\n",
       "      <td>0.00</td>\n",
       "      <td>0.00</td>\n",
       "    </tr>\n",
       "    <tr>\n",
       "      <th>1</th>\n",
       "      <td>21214</td>\n",
       "      <td>Tata Tele. Mah.</td>\n",
       "      <td>-3986.19</td>\n",
       "      <td>1954.93</td>\n",
       "      <td>-2968.08</td>\n",
       "      <td>4458.20</td>\n",
       "      <td>7410.18</td>\n",
       "      <td>9070.86</td>\n",
       "      <td>-1098.88</td>\n",
       "      <td>486.86</td>\n",
       "      <td>...</td>\n",
       "      <td>-10.30</td>\n",
       "      <td>-39.74</td>\n",
       "      <td>-57.74</td>\n",
       "      <td>-57.74</td>\n",
       "      <td>-87.18</td>\n",
       "      <td>29</td>\n",
       "      <td>101</td>\n",
       "      <td>2.0</td>\n",
       "      <td>0.31</td>\n",
       "      <td>0.24</td>\n",
       "    </tr>\n",
       "    <tr>\n",
       "      <th>2</th>\n",
       "      <td>14852</td>\n",
       "      <td>ABG Shipyard</td>\n",
       "      <td>-3192.58</td>\n",
       "      <td>53.84</td>\n",
       "      <td>506.86</td>\n",
       "      <td>7714.68</td>\n",
       "      <td>6944.54</td>\n",
       "      <td>1281.54</td>\n",
       "      <td>4496.25</td>\n",
       "      <td>9097.64</td>\n",
       "      <td>...</td>\n",
       "      <td>-5279.14</td>\n",
       "      <td>-5516.98</td>\n",
       "      <td>-7780.25</td>\n",
       "      <td>-7723.67</td>\n",
       "      <td>-7961.51</td>\n",
       "      <td>97</td>\n",
       "      <td>558</td>\n",
       "      <td>0.0</td>\n",
       "      <td>-0.03</td>\n",
       "      <td>-0.26</td>\n",
       "    </tr>\n",
       "    <tr>\n",
       "      <th>3</th>\n",
       "      <td>2439</td>\n",
       "      <td>GTL</td>\n",
       "      <td>-3054.51</td>\n",
       "      <td>157.30</td>\n",
       "      <td>-623.49</td>\n",
       "      <td>2353.88</td>\n",
       "      <td>2326.05</td>\n",
       "      <td>1033.69</td>\n",
       "      <td>-2612.42</td>\n",
       "      <td>1034.12</td>\n",
       "      <td>...</td>\n",
       "      <td>-3.33</td>\n",
       "      <td>-7.21</td>\n",
       "      <td>-48.13</td>\n",
       "      <td>-47.70</td>\n",
       "      <td>-51.58</td>\n",
       "      <td>93</td>\n",
       "      <td>63</td>\n",
       "      <td>2.0</td>\n",
       "      <td>0.24</td>\n",
       "      <td>1.90</td>\n",
       "    </tr>\n",
       "    <tr>\n",
       "      <th>4</th>\n",
       "      <td>23505</td>\n",
       "      <td>Bharati Defence</td>\n",
       "      <td>-2967.36</td>\n",
       "      <td>50.30</td>\n",
       "      <td>-1070.83</td>\n",
       "      <td>4675.33</td>\n",
       "      <td>5740.90</td>\n",
       "      <td>1084.20</td>\n",
       "      <td>1836.23</td>\n",
       "      <td>4685.81</td>\n",
       "      <td>...</td>\n",
       "      <td>-295.55</td>\n",
       "      <td>-400.55</td>\n",
       "      <td>-845.88</td>\n",
       "      <td>379.79</td>\n",
       "      <td>274.79</td>\n",
       "      <td>3887</td>\n",
       "      <td>346</td>\n",
       "      <td>0.0</td>\n",
       "      <td>0.01</td>\n",
       "      <td>0.05</td>\n",
       "    </tr>\n",
       "  </tbody>\n",
       "</table>\n",
       "<p>5 rows × 67 columns</p>\n",
       "</div>"
      ],
      "text/plain": [
       "   Co_Code          Co_Name  Networth Next Year  Equity Paid Up  Networth  \\\n",
       "0    16974      Hind.Cables            -8021.60          419.36  -7027.48   \n",
       "1    21214  Tata Tele. Mah.            -3986.19         1954.93  -2968.08   \n",
       "2    14852     ABG Shipyard            -3192.58           53.84    506.86   \n",
       "3     2439              GTL            -3054.51          157.30   -623.49   \n",
       "4    23505  Bharati Defence            -2967.36           50.30  -1070.83   \n",
       "\n",
       "   Capital Employed  Total Debt  Gross Block   Net Working Capital   \\\n",
       "0          -1007.24     5936.03        474.30              -1076.34   \n",
       "1           4458.20     7410.18       9070.86              -1098.88   \n",
       "2           7714.68     6944.54       1281.54               4496.25   \n",
       "3           2353.88     2326.05       1033.69              -2612.42   \n",
       "4           4675.33     5740.90       1084.20               1836.23   \n",
       "\n",
       "   Current Assets   ...  PBIDTM (%)[Latest]  PBITM (%)[Latest]  \\\n",
       "0            40.50  ...                0.00               0.00   \n",
       "1           486.86  ...              -10.30             -39.74   \n",
       "2          9097.64  ...            -5279.14           -5516.98   \n",
       "3          1034.12  ...               -3.33              -7.21   \n",
       "4          4685.81  ...             -295.55            -400.55   \n",
       "\n",
       "   PBDTM (%)[Latest]  CPM (%)[Latest]  APATM (%)[Latest]  \\\n",
       "0               0.00             0.00               0.00   \n",
       "1             -57.74           -57.74             -87.18   \n",
       "2           -7780.25         -7723.67           -7961.51   \n",
       "3             -48.13           -47.70             -51.58   \n",
       "4            -845.88           379.79             274.79   \n",
       "\n",
       "   Debtors Velocity (Days)  Creditors Velocity (Days)  \\\n",
       "0                        0                          0   \n",
       "1                       29                        101   \n",
       "2                       97                        558   \n",
       "3                       93                         63   \n",
       "4                     3887                        346   \n",
       "\n",
       "   Inventory Velocity (Days)  Value of Output/Total Assets  \\\n",
       "0                       45.0                          0.00   \n",
       "1                        2.0                          0.31   \n",
       "2                        0.0                         -0.03   \n",
       "3                        2.0                          0.24   \n",
       "4                        0.0                          0.01   \n",
       "\n",
       "   Value of Output/Gross Block  \n",
       "0                         0.00  \n",
       "1                         0.24  \n",
       "2                        -0.26  \n",
       "3                         1.90  \n",
       "4                         0.05  \n",
       "\n",
       "[5 rows x 67 columns]"
      ]
     },
     "execution_count": 4,
     "metadata": {},
     "output_type": "execute_result"
    }
   ],
   "source": [
    "df.head()"
   ]
  },
  {
   "cell_type": "code",
   "execution_count": 5,
   "id": "b0b9762b",
   "metadata": {},
   "outputs": [
    {
     "data": {
      "text/plain": [
       "(3586, 67)"
      ]
     },
     "execution_count": 5,
     "metadata": {},
     "output_type": "execute_result"
    }
   ],
   "source": [
    "df.shape"
   ]
  },
  {
   "cell_type": "code",
   "execution_count": 6,
   "id": "bb7ffa74",
   "metadata": {},
   "outputs": [
    {
     "name": "stdout",
     "output_type": "stream",
     "text": [
      "<class 'pandas.core.frame.DataFrame'>\n",
      "RangeIndex: 3586 entries, 0 to 3585\n",
      "Data columns (total 67 columns):\n",
      " #   Column                               Non-Null Count  Dtype  \n",
      "---  ------                               --------------  -----  \n",
      " 0   Co_Code                              3586 non-null   int64  \n",
      " 1   Co_Name                              3586 non-null   object \n",
      " 2   Networth Next Year                   3586 non-null   float64\n",
      " 3   Equity Paid Up                       3586 non-null   float64\n",
      " 4   Networth                             3586 non-null   float64\n",
      " 5   Capital Employed                     3586 non-null   float64\n",
      " 6   Total Debt                           3586 non-null   float64\n",
      " 7   Gross Block                          3586 non-null   float64\n",
      " 8   Net Working Capital                  3586 non-null   float64\n",
      " 9   Current Assets                       3586 non-null   float64\n",
      " 10  Current Liabilities and Provisions   3586 non-null   float64\n",
      " 11  Total Assets/Liabilities             3586 non-null   float64\n",
      " 12  Gross Sales                          3586 non-null   float64\n",
      " 13  Net Sales                            3586 non-null   float64\n",
      " 14  Other Income                         3586 non-null   float64\n",
      " 15  Value Of Output                      3586 non-null   float64\n",
      " 16  Cost of Production                   3586 non-null   float64\n",
      " 17  Selling Cost                         3586 non-null   float64\n",
      " 18  PBIDT                                3586 non-null   float64\n",
      " 19  PBDT                                 3586 non-null   float64\n",
      " 20  PBIT                                 3586 non-null   float64\n",
      " 21  PBT                                  3586 non-null   float64\n",
      " 22  PAT                                  3586 non-null   float64\n",
      " 23  Adjusted PAT                         3586 non-null   float64\n",
      " 24  CP                                   3586 non-null   float64\n",
      " 25  Revenue earnings in forex            3586 non-null   float64\n",
      " 26  Revenue expenses in forex            3586 non-null   float64\n",
      " 27  Capital expenses in forex            3586 non-null   float64\n",
      " 28  Book Value (Unit Curr)               3586 non-null   float64\n",
      " 29  Book Value (Adj.) (Unit Curr)        3582 non-null   float64\n",
      " 30  Market Capitalisation                3586 non-null   float64\n",
      " 31  CEPS (annualised) (Unit Curr)        3586 non-null   float64\n",
      " 32  Cash Flow From Operating Activities  3586 non-null   float64\n",
      " 33  Cash Flow From Investing Activities  3586 non-null   float64\n",
      " 34  Cash Flow From Financing Activities  3586 non-null   float64\n",
      " 35  ROG-Net Worth (%)                    3586 non-null   float64\n",
      " 36  ROG-Capital Employed (%)             3586 non-null   float64\n",
      " 37  ROG-Gross Block (%)                  3586 non-null   float64\n",
      " 38  ROG-Gross Sales (%)                  3586 non-null   float64\n",
      " 39  ROG-Net Sales (%)                    3586 non-null   float64\n",
      " 40  ROG-Cost of Production (%)           3586 non-null   float64\n",
      " 41  ROG-Total Assets (%)                 3586 non-null   float64\n",
      " 42  ROG-PBIDT (%)                        3586 non-null   float64\n",
      " 43  ROG-PBDT (%)                         3586 non-null   float64\n",
      " 44  ROG-PBIT (%)                         3586 non-null   float64\n",
      " 45  ROG-PBT (%)                          3586 non-null   float64\n",
      " 46  ROG-PAT (%)                          3586 non-null   float64\n",
      " 47  ROG-CP (%)                           3586 non-null   float64\n",
      " 48  ROG-Revenue earnings in forex (%)    3586 non-null   float64\n",
      " 49  ROG-Revenue expenses in forex (%)    3586 non-null   float64\n",
      " 50  ROG-Market Capitalisation (%)        3586 non-null   float64\n",
      " 51  Current Ratio[Latest]                3585 non-null   float64\n",
      " 52  Fixed Assets Ratio[Latest]           3585 non-null   float64\n",
      " 53  Inventory Ratio[Latest]              3585 non-null   float64\n",
      " 54  Debtors Ratio[Latest]                3585 non-null   float64\n",
      " 55  Total Asset Turnover Ratio[Latest]   3585 non-null   float64\n",
      " 56  Interest Cover Ratio[Latest]         3585 non-null   float64\n",
      " 57  PBIDTM (%)[Latest]                   3585 non-null   float64\n",
      " 58  PBITM (%)[Latest]                    3585 non-null   float64\n",
      " 59  PBDTM (%)[Latest]                    3585 non-null   float64\n",
      " 60  CPM (%)[Latest]                      3585 non-null   float64\n",
      " 61  APATM (%)[Latest]                    3585 non-null   float64\n",
      " 62  Debtors Velocity (Days)              3586 non-null   int64  \n",
      " 63  Creditors Velocity (Days)            3586 non-null   int64  \n",
      " 64  Inventory Velocity (Days)            3483 non-null   float64\n",
      " 65  Value of Output/Total Assets         3586 non-null   float64\n",
      " 66  Value of Output/Gross Block          3586 non-null   float64\n",
      "dtypes: float64(63), int64(3), object(1)\n",
      "memory usage: 1.8+ MB\n"
     ]
    }
   ],
   "source": [
    "df.info()"
   ]
  },
  {
   "cell_type": "code",
   "execution_count": 7,
   "id": "58e6867a",
   "metadata": {},
   "outputs": [],
   "source": [
    "df.drop('Co_Code', axis = 1, inplace = True)"
   ]
  },
  {
   "cell_type": "code",
   "execution_count": 8,
   "id": "6e870d9c",
   "metadata": {},
   "outputs": [
    {
     "data": {
      "text/plain": [
       "118"
      ]
     },
     "execution_count": 8,
     "metadata": {},
     "output_type": "execute_result"
    }
   ],
   "source": [
    "df.isnull().sum().sum()"
   ]
  },
  {
   "cell_type": "code",
   "execution_count": 9,
   "id": "453ff2a5",
   "metadata": {},
   "outputs": [],
   "source": [
    "# Missing Value Treated\n",
    "for col in df.columns:\n",
    "    val = df[col].isnull().sum()\n",
    "    if val > 0:\n",
    "        df[col].fillna(method ='ffill', inplace = True)"
   ]
  },
  {
   "cell_type": "code",
   "execution_count": 10,
   "id": "5192bca1",
   "metadata": {},
   "outputs": [
    {
     "data": {
      "text/plain": [
       "0"
      ]
     },
     "execution_count": 10,
     "metadata": {},
     "output_type": "execute_result"
    }
   ],
   "source": [
    "df.isnull().sum().sum()"
   ]
  },
  {
   "cell_type": "code",
   "execution_count": 11,
   "id": "541c81d4",
   "metadata": {},
   "outputs": [
    {
     "data": {
      "text/html": [
       "<div>\n",
       "<style scoped>\n",
       "    .dataframe tbody tr th:only-of-type {\n",
       "        vertical-align: middle;\n",
       "    }\n",
       "\n",
       "    .dataframe tbody tr th {\n",
       "        vertical-align: top;\n",
       "    }\n",
       "\n",
       "    .dataframe thead th {\n",
       "        text-align: right;\n",
       "    }\n",
       "</style>\n",
       "<table border=\"1\" class=\"dataframe\">\n",
       "  <thead>\n",
       "    <tr style=\"text-align: right;\">\n",
       "      <th></th>\n",
       "      <th>count</th>\n",
       "      <th>mean</th>\n",
       "      <th>std</th>\n",
       "      <th>min</th>\n",
       "      <th>25%</th>\n",
       "      <th>50%</th>\n",
       "      <th>75%</th>\n",
       "      <th>max</th>\n",
       "    </tr>\n",
       "  </thead>\n",
       "  <tbody>\n",
       "    <tr>\n",
       "      <th>Networth Next Year</th>\n",
       "      <td>3586.0</td>\n",
       "      <td>725.045251</td>\n",
       "      <td>4769.681004</td>\n",
       "      <td>-8021.60</td>\n",
       "      <td>3.9850</td>\n",
       "      <td>19.015</td>\n",
       "      <td>123.8025</td>\n",
       "      <td>111729.10</td>\n",
       "    </tr>\n",
       "    <tr>\n",
       "      <th>Equity Paid Up</th>\n",
       "      <td>3586.0</td>\n",
       "      <td>62.966584</td>\n",
       "      <td>778.761744</td>\n",
       "      <td>0.00</td>\n",
       "      <td>3.7500</td>\n",
       "      <td>8.290</td>\n",
       "      <td>19.5175</td>\n",
       "      <td>42263.46</td>\n",
       "    </tr>\n",
       "    <tr>\n",
       "      <th>Networth</th>\n",
       "      <td>3586.0</td>\n",
       "      <td>649.746299</td>\n",
       "      <td>4091.988792</td>\n",
       "      <td>-7027.48</td>\n",
       "      <td>3.8925</td>\n",
       "      <td>18.580</td>\n",
       "      <td>117.2975</td>\n",
       "      <td>81657.35</td>\n",
       "    </tr>\n",
       "    <tr>\n",
       "      <th>Capital Employed</th>\n",
       "      <td>3586.0</td>\n",
       "      <td>2799.611054</td>\n",
       "      <td>26975.135385</td>\n",
       "      <td>-1824.75</td>\n",
       "      <td>7.6025</td>\n",
       "      <td>39.090</td>\n",
       "      <td>226.6050</td>\n",
       "      <td>714001.25</td>\n",
       "    </tr>\n",
       "    <tr>\n",
       "      <th>Total Debt</th>\n",
       "      <td>3586.0</td>\n",
       "      <td>1994.823779</td>\n",
       "      <td>23652.842746</td>\n",
       "      <td>-0.72</td>\n",
       "      <td>0.0300</td>\n",
       "      <td>7.490</td>\n",
       "      <td>72.3500</td>\n",
       "      <td>652823.81</td>\n",
       "    </tr>\n",
       "    <tr>\n",
       "      <th>...</th>\n",
       "      <td>...</td>\n",
       "      <td>...</td>\n",
       "      <td>...</td>\n",
       "      <td>...</td>\n",
       "      <td>...</td>\n",
       "      <td>...</td>\n",
       "      <td>...</td>\n",
       "      <td>...</td>\n",
       "    </tr>\n",
       "    <tr>\n",
       "      <th>Debtors Velocity (Days)</th>\n",
       "      <td>3586.0</td>\n",
       "      <td>603.894032</td>\n",
       "      <td>10636.759580</td>\n",
       "      <td>0.00</td>\n",
       "      <td>8.0000</td>\n",
       "      <td>49.000</td>\n",
       "      <td>106.0000</td>\n",
       "      <td>514721.00</td>\n",
       "    </tr>\n",
       "    <tr>\n",
       "      <th>Creditors Velocity (Days)</th>\n",
       "      <td>3586.0</td>\n",
       "      <td>2057.854992</td>\n",
       "      <td>54169.479197</td>\n",
       "      <td>0.00</td>\n",
       "      <td>8.0000</td>\n",
       "      <td>39.000</td>\n",
       "      <td>89.0000</td>\n",
       "      <td>2034145.00</td>\n",
       "    </tr>\n",
       "    <tr>\n",
       "      <th>Inventory Velocity (Days)</th>\n",
       "      <td>3586.0</td>\n",
       "      <td>80.122421</td>\n",
       "      <td>139.349959</td>\n",
       "      <td>-199.00</td>\n",
       "      <td>0.0000</td>\n",
       "      <td>35.000</td>\n",
       "      <td>96.0000</td>\n",
       "      <td>996.00</td>\n",
       "    </tr>\n",
       "    <tr>\n",
       "      <th>Value of Output/Total Assets</th>\n",
       "      <td>3586.0</td>\n",
       "      <td>0.819757</td>\n",
       "      <td>1.201400</td>\n",
       "      <td>-0.33</td>\n",
       "      <td>0.0700</td>\n",
       "      <td>0.480</td>\n",
       "      <td>1.1600</td>\n",
       "      <td>17.63</td>\n",
       "    </tr>\n",
       "    <tr>\n",
       "      <th>Value of Output/Gross Block</th>\n",
       "      <td>3586.0</td>\n",
       "      <td>61.884548</td>\n",
       "      <td>976.824352</td>\n",
       "      <td>-61.00</td>\n",
       "      <td>0.2700</td>\n",
       "      <td>1.530</td>\n",
       "      <td>4.9100</td>\n",
       "      <td>43404.00</td>\n",
       "    </tr>\n",
       "  </tbody>\n",
       "</table>\n",
       "<p>65 rows × 8 columns</p>\n",
       "</div>"
      ],
      "text/plain": [
       "                               count         mean           std      min  \\\n",
       "Networth Next Year            3586.0   725.045251   4769.681004 -8021.60   \n",
       "Equity Paid Up                3586.0    62.966584    778.761744     0.00   \n",
       "Networth                      3586.0   649.746299   4091.988792 -7027.48   \n",
       "Capital Employed              3586.0  2799.611054  26975.135385 -1824.75   \n",
       "Total Debt                    3586.0  1994.823779  23652.842746    -0.72   \n",
       "...                              ...          ...           ...      ...   \n",
       "Debtors Velocity (Days)       3586.0   603.894032  10636.759580     0.00   \n",
       "Creditors Velocity (Days)     3586.0  2057.854992  54169.479197     0.00   \n",
       "Inventory Velocity (Days)     3586.0    80.122421    139.349959  -199.00   \n",
       "Value of Output/Total Assets  3586.0     0.819757      1.201400    -0.33   \n",
       "Value of Output/Gross Block   3586.0    61.884548    976.824352   -61.00   \n",
       "\n",
       "                                 25%     50%       75%         max  \n",
       "Networth Next Year            3.9850  19.015  123.8025   111729.10  \n",
       "Equity Paid Up                3.7500   8.290   19.5175    42263.46  \n",
       "Networth                      3.8925  18.580  117.2975    81657.35  \n",
       "Capital Employed              7.6025  39.090  226.6050   714001.25  \n",
       "Total Debt                    0.0300   7.490   72.3500   652823.81  \n",
       "...                              ...     ...       ...         ...  \n",
       "Debtors Velocity (Days)       8.0000  49.000  106.0000   514721.00  \n",
       "Creditors Velocity (Days)     8.0000  39.000   89.0000  2034145.00  \n",
       "Inventory Velocity (Days)     0.0000  35.000   96.0000      996.00  \n",
       "Value of Output/Total Assets  0.0700   0.480    1.1600       17.63  \n",
       "Value of Output/Gross Block   0.2700   1.530    4.9100    43404.00  \n",
       "\n",
       "[65 rows x 8 columns]"
      ]
     },
     "execution_count": 11,
     "metadata": {},
     "output_type": "execute_result"
    }
   ],
   "source": [
    "df.describe().T"
   ]
  },
  {
   "cell_type": "code",
   "execution_count": 12,
   "id": "565fce84",
   "metadata": {},
   "outputs": [],
   "source": [
    "df_int = df.select_dtypes(include='int64')\n",
    "df_float = df.select_dtypes(include='float64')"
   ]
  },
  {
   "cell_type": "code",
   "execution_count": 13,
   "id": "fd703b73",
   "metadata": {},
   "outputs": [],
   "source": [
    "df_numerical_colmns = df_int.columns.tolist() + df_float.columns.tolist()"
   ]
  },
  {
   "cell_type": "code",
   "execution_count": 14,
   "id": "ec81f335",
   "metadata": {},
   "outputs": [
    {
     "data": {
      "text/plain": [
       "<AxesSubplot:>"
      ]
     },
     "execution_count": 14,
     "metadata": {},
     "output_type": "execute_result"
    },
    {
     "data": {
      "image/png": "[encoded data removed]",
      "text/plain": [
       "<Figure size 1440x360 with 1 Axes>"
      ]
     },
     "metadata": {
      "needs_background": "light"
     },
     "output_type": "display_data"
    }
   ],
   "source": [
    "df.boxplot(column=df_numerical_colmns, figsize=(20, 5))"
   ]
  },
  {
   "cell_type": "code",
   "execution_count": 15,
   "id": "6c0248e5",
   "metadata": {},
   "outputs": [],
   "source": [
    "# From the above figure we observe presence of outliers. \n",
    "# We will treat the outliers before proceeding to model building.\n",
    "\n",
    "def remove_outlier(col):\n",
    "    sorted(col)\n",
    "    Q1,Q3=np.percentile(col,[25,75])\n",
    "    IQR=Q3-Q1\n",
    "    lower_range= Q1-(1.5 * IQR)\n",
    "    upper_range= Q3+(1.5 * IQR)\n",
    "    return lower_range, upper_range"
   ]
  },
  {
   "cell_type": "code",
   "execution_count": 16,
   "id": "0e60ab8b",
   "metadata": {},
   "outputs": [],
   "source": [
    "for column in df_numerical_colmns:\n",
    "    lr,ur=remove_outlier(df[column])\n",
    "    df[column]=np.where(df[column]>ur,ur,df[column])\n",
    "    df[column]=np.where(df[column]<lr,lr,df[column])"
   ]
  },
  {
   "cell_type": "code",
   "execution_count": 17,
   "id": "381484fa",
   "metadata": {},
   "outputs": [
    {
     "data": {
      "text/plain": [
       "<AxesSubplot:>"
      ]
     },
     "execution_count": 17,
     "metadata": {},
     "output_type": "execute_result"
    },
    {
     "data": {
      "image/png": "[encoded data removed]",
      "text/plain": [
       "<Figure size 1440x360 with 1 Axes>"
      ]
     },
     "metadata": {
      "needs_background": "light"
     },
     "output_type": "display_data"
    }
   ],
   "source": [
    "df.boxplot(column=df_numerical_colmns, figsize=(20, 5))"
   ]
  },
  {
   "cell_type": "code",
   "execution_count": 18,
   "id": "b51d26fb",
   "metadata": {},
   "outputs": [
    {
     "data": {
      "text/html": [
       "<div>\n",
       "<style scoped>\n",
       "    .dataframe tbody tr th:only-of-type {\n",
       "        vertical-align: middle;\n",
       "    }\n",
       "\n",
       "    .dataframe tbody tr th {\n",
       "        vertical-align: top;\n",
       "    }\n",
       "\n",
       "    .dataframe thead th {\n",
       "        text-align: right;\n",
       "    }\n",
       "</style>\n",
       "<table border=\"1\" class=\"dataframe\">\n",
       "  <thead>\n",
       "    <tr style=\"text-align: right;\">\n",
       "      <th></th>\n",
       "      <th>Co_Name</th>\n",
       "      <th>Networth Next Year</th>\n",
       "      <th>Equity Paid Up</th>\n",
       "      <th>Networth</th>\n",
       "      <th>Capital Employed</th>\n",
       "      <th>Total Debt</th>\n",
       "      <th>Gross Block</th>\n",
       "      <th>Net Working Capital</th>\n",
       "      <th>Current Assets</th>\n",
       "      <th>Current Liabilities and Provisions</th>\n",
       "      <th>...</th>\n",
       "      <th>PBITM (%)[Latest]</th>\n",
       "      <th>PBDTM (%)[Latest]</th>\n",
       "      <th>CPM (%)[Latest]</th>\n",
       "      <th>APATM (%)[Latest]</th>\n",
       "      <th>Debtors Velocity (Days)</th>\n",
       "      <th>Creditors Velocity (Days)</th>\n",
       "      <th>Inventory Velocity (Days)</th>\n",
       "      <th>Value of Output/Total Assets</th>\n",
       "      <th>Value of Output/Gross Block</th>\n",
       "      <th>default</th>\n",
       "    </tr>\n",
       "  </thead>\n",
       "  <tbody>\n",
       "    <tr>\n",
       "      <th>0</th>\n",
       "      <td>Hind.Cables</td>\n",
       "      <td>-175.74125</td>\n",
       "      <td>43.16875</td>\n",
       "      <td>-166.215</td>\n",
       "      <td>-320.90125</td>\n",
       "      <td>180.83</td>\n",
       "      <td>328.8825</td>\n",
       "      <td>-89.40625</td>\n",
       "      <td>40.50000</td>\n",
       "      <td>163.02625</td>\n",
       "      <td>...</td>\n",
       "      <td>0.0000</td>\n",
       "      <td>0.00</td>\n",
       "      <td>0.00000</td>\n",
       "      <td>0.00000</td>\n",
       "      <td>0.0</td>\n",
       "      <td>0.0</td>\n",
       "      <td>45.0</td>\n",
       "      <td>0.00</td>\n",
       "      <td>0.00</td>\n",
       "      <td>1</td>\n",
       "    </tr>\n",
       "    <tr>\n",
       "      <th>1</th>\n",
       "      <td>Tata Tele. Mah.</td>\n",
       "      <td>-175.74125</td>\n",
       "      <td>43.16875</td>\n",
       "      <td>-166.215</td>\n",
       "      <td>555.10875</td>\n",
       "      <td>180.83</td>\n",
       "      <td>328.8825</td>\n",
       "      <td>-89.40625</td>\n",
       "      <td>332.19375</td>\n",
       "      <td>163.02625</td>\n",
       "      <td>...</td>\n",
       "      <td>-21.4275</td>\n",
       "      <td>-21.15</td>\n",
       "      <td>-17.08125</td>\n",
       "      <td>-11.11125</td>\n",
       "      <td>29.0</td>\n",
       "      <td>101.0</td>\n",
       "      <td>2.0</td>\n",
       "      <td>0.31</td>\n",
       "      <td>0.24</td>\n",
       "      <td>1</td>\n",
       "    </tr>\n",
       "    <tr>\n",
       "      <th>2</th>\n",
       "      <td>ABG Shipyard</td>\n",
       "      <td>-175.74125</td>\n",
       "      <td>43.16875</td>\n",
       "      <td>287.405</td>\n",
       "      <td>555.10875</td>\n",
       "      <td>180.83</td>\n",
       "      <td>328.8825</td>\n",
       "      <td>151.52375</td>\n",
       "      <td>332.19375</td>\n",
       "      <td>163.02625</td>\n",
       "      <td>...</td>\n",
       "      <td>-21.4275</td>\n",
       "      <td>-21.15</td>\n",
       "      <td>-17.08125</td>\n",
       "      <td>-11.11125</td>\n",
       "      <td>97.0</td>\n",
       "      <td>210.5</td>\n",
       "      <td>0.0</td>\n",
       "      <td>-0.03</td>\n",
       "      <td>-0.26</td>\n",
       "      <td>1</td>\n",
       "    </tr>\n",
       "    <tr>\n",
       "      <th>3</th>\n",
       "      <td>GTL</td>\n",
       "      <td>-175.74125</td>\n",
       "      <td>43.16875</td>\n",
       "      <td>-166.215</td>\n",
       "      <td>555.10875</td>\n",
       "      <td>180.83</td>\n",
       "      <td>328.8825</td>\n",
       "      <td>-89.40625</td>\n",
       "      <td>332.19375</td>\n",
       "      <td>163.02625</td>\n",
       "      <td>...</td>\n",
       "      <td>-7.2100</td>\n",
       "      <td>-21.15</td>\n",
       "      <td>-17.08125</td>\n",
       "      <td>-11.11125</td>\n",
       "      <td>93.0</td>\n",
       "      <td>63.0</td>\n",
       "      <td>2.0</td>\n",
       "      <td>0.24</td>\n",
       "      <td>1.90</td>\n",
       "      <td>1</td>\n",
       "    </tr>\n",
       "    <tr>\n",
       "      <th>4</th>\n",
       "      <td>Bharati Defence</td>\n",
       "      <td>-175.74125</td>\n",
       "      <td>43.16875</td>\n",
       "      <td>-166.215</td>\n",
       "      <td>555.10875</td>\n",
       "      <td>180.83</td>\n",
       "      <td>328.8825</td>\n",
       "      <td>151.52375</td>\n",
       "      <td>332.19375</td>\n",
       "      <td>163.02625</td>\n",
       "      <td>...</td>\n",
       "      <td>-21.4275</td>\n",
       "      <td>-21.15</td>\n",
       "      <td>28.46875</td>\n",
       "      <td>18.51875</td>\n",
       "      <td>253.0</td>\n",
       "      <td>210.5</td>\n",
       "      <td>0.0</td>\n",
       "      <td>0.01</td>\n",
       "      <td>0.05</td>\n",
       "      <td>1</td>\n",
       "    </tr>\n",
       "  </tbody>\n",
       "</table>\n",
       "<p>5 rows × 67 columns</p>\n",
       "</div>"
      ],
      "text/plain": [
       "           Co_Name  Networth Next Year  Equity Paid Up  Networth  \\\n",
       "0      Hind.Cables          -175.74125        43.16875  -166.215   \n",
       "1  Tata Tele. Mah.          -175.74125        43.16875  -166.215   \n",
       "2     ABG Shipyard          -175.74125        43.16875   287.405   \n",
       "3              GTL          -175.74125        43.16875  -166.215   \n",
       "4  Bharati Defence          -175.74125        43.16875  -166.215   \n",
       "\n",
       "   Capital Employed  Total Debt  Gross Block   Net Working Capital   \\\n",
       "0        -320.90125      180.83      328.8825             -89.40625   \n",
       "1         555.10875      180.83      328.8825             -89.40625   \n",
       "2         555.10875      180.83      328.8825             151.52375   \n",
       "3         555.10875      180.83      328.8825             -89.40625   \n",
       "4         555.10875      180.83      328.8825             151.52375   \n",
       "\n",
       "   Current Assets   Current Liabilities and Provisions   ...  \\\n",
       "0         40.50000                            163.02625  ...   \n",
       "1        332.19375                            163.02625  ...   \n",
       "2        332.19375                            163.02625  ...   \n",
       "3        332.19375                            163.02625  ...   \n",
       "4        332.19375                            163.02625  ...   \n",
       "\n",
       "   PBITM (%)[Latest]  PBDTM (%)[Latest]  CPM (%)[Latest]  APATM (%)[Latest]  \\\n",
       "0             0.0000               0.00          0.00000            0.00000   \n",
       "1           -21.4275             -21.15        -17.08125          -11.11125   \n",
       "2           -21.4275             -21.15        -17.08125          -11.11125   \n",
       "3            -7.2100             -21.15        -17.08125          -11.11125   \n",
       "4           -21.4275             -21.15         28.46875           18.51875   \n",
       "\n",
       "   Debtors Velocity (Days)  Creditors Velocity (Days)  \\\n",
       "0                      0.0                        0.0   \n",
       "1                     29.0                      101.0   \n",
       "2                     97.0                      210.5   \n",
       "3                     93.0                       63.0   \n",
       "4                    253.0                      210.5   \n",
       "\n",
       "   Inventory Velocity (Days)  Value of Output/Total Assets  \\\n",
       "0                       45.0                          0.00   \n",
       "1                        2.0                          0.31   \n",
       "2                        0.0                         -0.03   \n",
       "3                        2.0                          0.24   \n",
       "4                        0.0                          0.01   \n",
       "\n",
       "   Value of Output/Gross Block  default  \n",
       "0                         0.00        1  \n",
       "1                         0.24        1  \n",
       "2                        -0.26        1  \n",
       "3                         1.90        1  \n",
       "4                         0.05        1  \n",
       "\n",
       "[5 rows x 67 columns]"
      ]
     },
     "execution_count": 18,
     "metadata": {},
     "output_type": "execute_result"
    }
   ],
   "source": [
    "# Create a dependent variable based on the hint provided.\n",
    "df['default'] = np.where(df['Networth Next Year'] < 0, 1, 0)\n",
    "df.head()"
   ]
  },
  {
   "cell_type": "code",
   "execution_count": 19,
   "id": "b53f8280",
   "metadata": {},
   "outputs": [],
   "source": [
    "# We will split the given data into train and test split in 67:33 ratio\n",
    "\n",
    "from sklearn.model_selection import train_test_split\n",
    "\n",
    "X = df.drop('default', axis = 1)\n",
    "X = X.drop('Co_Name', axis = 1)\n",
    "y = df['default']\n",
    "\n",
    "X_train, X_test, y_train, y_test = train_test_split(X, y, test_size = 0.33, random_state = 42)"
   ]
  },
  {
   "cell_type": "code",
   "execution_count": 20,
   "id": "e01d87ae",
   "metadata": {},
   "outputs": [
    {
     "data": {
      "text/plain": [
       "(2402, 65)"
      ]
     },
     "execution_count": 20,
     "metadata": {},
     "output_type": "execute_result"
    }
   ],
   "source": [
    "X_train.shape"
   ]
  },
  {
   "cell_type": "code",
   "execution_count": 21,
   "id": "4559c220",
   "metadata": {},
   "outputs": [
    {
     "data": {
      "text/plain": [
       "(1184, 65)"
      ]
     },
     "execution_count": 21,
     "metadata": {},
     "output_type": "execute_result"
    }
   ],
   "source": [
    "X_test.shape"
   ]
  },
  {
   "cell_type": "markdown",
   "id": "b252225c",
   "metadata": {},
   "source": [
    "### 1.8 Build a Random Forest Model on Train Dataset. Also showcase your model building approach"
   ]
  },
  {
   "cell_type": "code",
   "execution_count": 22,
   "id": "fd9f4ef7",
   "metadata": {},
   "outputs": [],
   "source": [
    "from sklearn.ensemble import RandomForestClassifier\n",
    "from sklearn.model_selection import GridSearchCV"
   ]
  },
  {
   "cell_type": "code",
   "execution_count": 23,
   "id": "ce301a28",
   "metadata": {},
   "outputs": [],
   "source": [
    "param_grid = {\n",
    "    'max_depth': [3, 5, 7],\n",
    "    'max_features': [15, 25,35],\n",
    "    'min_samples_leaf': [5, 10, 15],\n",
    "    'min_samples_split': [15, 25, 30],\n",
    "    'n_estimators': [5, 10, 15]\n",
    "}\n",
    "rfcl = RandomForestClassifier()\n",
    "grid_search = GridSearchCV(estimator = rfcl, param_grid = param_grid)"
   ]
  },
  {
   "cell_type": "code",
   "execution_count": 24,
   "id": "1b76631b",
   "metadata": {},
   "outputs": [
    {
     "data": {
      "text/html": [
       "<style>#sk-container-id-1 {color: black;background-color: white;}#sk-container-id-1 pre{padding: 0;}#sk-container-id-1 div.sk-toggleable {background-color: white;}#sk-container-id-1 label.sk-toggleable__label {cursor: pointer;display: block;width: 100%;margin-bottom: 0;padding: 0.3em;box-sizing: border-box;text-align: center;}#sk-container-id-1 label.sk-toggleable__label-arrow:before {content: \"▸\";float: left;margin-right: 0.25em;color: #696969;}#sk-container-id-1 label.sk-toggleable__label-arrow:hover:before {color: black;}#sk-container-id-1 div.sk-estimator:hover label.sk-toggleable__label-arrow:before {color: black;}#sk-container-id-1 div.sk-toggleable__content {max-height: 0;max-width: 0;overflow: hidden;text-align: left;background-color: #f0f8ff;}#sk-container-id-1 div.sk-toggleable__content pre {margin: 0.2em;color: black;border-radius: 0.25em;background-color: #f0f8ff;}#sk-container-id-1 input.sk-toggleable__control:checked~div.sk-toggleable__content {max-height: 200px;max-width: 100%;overflow: auto;}#sk-container-id-1 input.sk-toggleable__control:checked~label.sk-toggleable__label-arrow:before {content: \"▾\";}#sk-container-id-1 div.sk-estimator input.sk-toggleable__control:checked~label.sk-toggleable__label {background-color: #d4ebff;}#sk-container-id-1 div.sk-label input.sk-toggleable__control:checked~label.sk-toggleable__label {background-color: #d4ebff;}#sk-container-id-1 input.sk-hidden--visually {border: 0;clip: rect(1px 1px 1px 1px);clip: rect(1px, 1px, 1px, 1px);height: 1px;margin: -1px;overflow: hidden;padding: 0;position: absolute;width: 1px;}#sk-container-id-1 div.sk-estimator {font-family: monospace;background-color: #f0f8ff;border: 1px dotted black;border-radius: 0.25em;box-sizing: border-box;margin-bottom: 0.5em;}#sk-container-id-1 div.sk-estimator:hover {background-color: #d4ebff;}#sk-container-id-1 div.sk-parallel-item::after {content: \"\";width: 100%;border-bottom: 1px solid gray;flex-grow: 1;}#sk-container-id-1 div.sk-label:hover label.sk-toggleable__label {background-color: #d4ebff;}#sk-container-id-1 div.sk-serial::before {content: \"\";position: absolute;border-left: 1px solid gray;box-sizing: border-box;top: 0;bottom: 0;left: 50%;z-index: 0;}#sk-container-id-1 div.sk-serial {display: flex;flex-direction: column;align-items: center;background-color: white;padding-right: 0.2em;padding-left: 0.2em;position: relative;}#sk-container-id-1 div.sk-item {position: relative;z-index: 1;}#sk-container-id-1 div.sk-parallel {display: flex;align-items: stretch;justify-content: center;background-color: white;position: relative;}#sk-container-id-1 div.sk-item::before, #sk-container-id-1 div.sk-parallel-item::before {content: \"\";position: absolute;border-left: 1px solid gray;box-sizing: border-box;top: 0;bottom: 0;left: 50%;z-index: -1;}#sk-container-id-1 div.sk-parallel-item {display: flex;flex-direction: column;z-index: 1;position: relative;background-color: white;}#sk-container-id-1 div.sk-parallel-item:first-child::after {align-self: flex-end;width: 50%;}#sk-container-id-1 div.sk-parallel-item:last-child::after {align-self: flex-start;width: 50%;}#sk-container-id-1 div.sk-parallel-item:only-child::after {width: 0;}#sk-container-id-1 div.sk-dashed-wrapped {border: 1px dashed gray;margin: 0 0.4em 0.5em 0.4em;box-sizing: border-box;padding-bottom: 0.4em;background-color: white;}#sk-container-id-1 div.sk-label label {font-family: monospace;font-weight: bold;display: inline-block;line-height: 1.2em;}#sk-container-id-1 div.sk-label-container {text-align: center;}#sk-container-id-1 div.sk-container {/* jupyter's `normalize.less` sets `[hidden] { display: none; }` but bootstrap.min.css set `[hidden] { display: none !important; }` so we also need the `!important` here to be able to override the default hidden behavior on the sphinx rendered scikit-learn.org. See: https://github.com/scikit-learn/scikit-learn/issues/21755 */display: inline-block !important;position: relative;}#sk-container-id-1 div.sk-text-repr-fallback {display: none;}</style><div id=\"sk-container-id-1\" class=\"sk-top-container\"><div class=\"sk-text-repr-fallback\"><pre>GridSearchCV(estimator=RandomForestClassifier(),\n",
       "             param_grid={&#x27;max_depth&#x27;: [3, 5, 7], &#x27;max_features&#x27;: [15, 25, 35],\n",
       "                         &#x27;min_samples_leaf&#x27;: [5, 10, 15],\n",
       "                         &#x27;min_samples_split&#x27;: [15, 25, 30],\n",
       "                         &#x27;n_estimators&#x27;: [5, 10, 15]})</pre><b>In a Jupyter environment, please rerun this cell to show the HTML representation or trust the notebook. <br />On GitHub, the HTML representation is unable to render, please try loading this page with nbviewer.org.</b></div><div class=\"sk-container\" hidden><div class=\"sk-item sk-dashed-wrapped\"><div class=\"sk-label-container\"><div class=\"sk-label sk-toggleable\"><input class=\"sk-toggleable__control sk-hidden--visually\" id=\"sk-estimator-id-1\" type=\"checkbox\" ><label for=\"sk-estimator-id-1\" class=\"sk-toggleable__label sk-toggleable__label-arrow\">GridSearchCV</label><div class=\"sk-toggleable__content\"><pre>GridSearchCV(estimator=RandomForestClassifier(),\n",
       "             param_grid={&#x27;max_depth&#x27;: [3, 5, 7], &#x27;max_features&#x27;: [15, 25, 35],\n",
       "                         &#x27;min_samples_leaf&#x27;: [5, 10, 15],\n",
       "                         &#x27;min_samples_split&#x27;: [15, 25, 30],\n",
       "                         &#x27;n_estimators&#x27;: [5, 10, 15]})</pre></div></div></div><div class=\"sk-parallel\"><div class=\"sk-parallel-item\"><div class=\"sk-item\"><div class=\"sk-label-container\"><div class=\"sk-label sk-toggleable\"><input class=\"sk-toggleable__control sk-hidden--visually\" id=\"sk-estimator-id-2\" type=\"checkbox\" ><label for=\"sk-estimator-id-2\" class=\"sk-toggleable__label sk-toggleable__label-arrow\">estimator: RandomForestClassifier</label><div class=\"sk-toggleable__content\"><pre>RandomForestClassifier()</pre></div></div></div><div class=\"sk-serial\"><div class=\"sk-item\"><div class=\"sk-estimator sk-toggleable\"><input class=\"sk-toggleable__control sk-hidden--visually\" id=\"sk-estimator-id-3\" type=\"checkbox\" ><label for=\"sk-estimator-id-3\" class=\"sk-toggleable__label sk-toggleable__label-arrow\">RandomForestClassifier</label><div class=\"sk-toggleable__content\"><pre>RandomForestClassifier()</pre></div></div></div></div></div></div></div></div></div></div>"
      ],
      "text/plain": [
       "GridSearchCV(estimator=RandomForestClassifier(),\n",
       "             param_grid={'max_depth': [3, 5, 7], 'max_features': [15, 25, 35],\n",
       "                         'min_samples_leaf': [5, 10, 15],\n",
       "                         'min_samples_split': [15, 25, 30],\n",
       "                         'n_estimators': [5, 10, 15]})"
      ]
     },
     "execution_count": 24,
     "metadata": {},
     "output_type": "execute_result"
    }
   ],
   "source": [
    "grid_search.fit(X_train, y_train)"
   ]
  },
  {
   "cell_type": "code",
   "execution_count": 25,
   "id": "c5327220",
   "metadata": {},
   "outputs": [
    {
     "data": {
      "text/plain": [
       "{'max_depth': 3,\n",
       " 'max_features': 25,\n",
       " 'min_samples_leaf': 5,\n",
       " 'min_samples_split': 25,\n",
       " 'n_estimators': 15}"
      ]
     },
     "execution_count": 25,
     "metadata": {},
     "output_type": "execute_result"
    }
   ],
   "source": [
    "grid_search.best_params_"
   ]
  },
  {
   "cell_type": "code",
   "execution_count": 26,
   "id": "108ef6fb",
   "metadata": {},
   "outputs": [],
   "source": [
    "best_grid = grid_search.best_estimator_"
   ]
  },
  {
   "cell_type": "code",
   "execution_count": 27,
   "id": "4db1b940",
   "metadata": {},
   "outputs": [],
   "source": [
    "pred_train_rf = best_grid.predict(X_train)"
   ]
  },
  {
   "cell_type": "code",
   "execution_count": 28,
   "id": "0d4fe532",
   "metadata": {},
   "outputs": [
    {
     "name": "stdout",
     "output_type": "stream",
     "text": [
      "              precision    recall  f1-score   support\n",
      "\n",
      "           0       1.00      1.00      1.00      2157\n",
      "           1       1.00      1.00      1.00       245\n",
      "\n",
      "    accuracy                           1.00      2402\n",
      "   macro avg       1.00      1.00      1.00      2402\n",
      "weighted avg       1.00      1.00      1.00      2402\n",
      "\n"
     ]
    }
   ],
   "source": [
    "print(metrics.classification_report(y_train, pred_train_rf))"
   ]
  },
  {
   "cell_type": "code",
   "execution_count": 29,
   "id": "7dc31998",
   "metadata": {},
   "outputs": [
    {
     "data": {
      "text/plain": [
       "array([[2157,    0],\n",
       "       [   0,  245]], dtype=int64)"
      ]
     },
     "execution_count": 29,
     "metadata": {},
     "output_type": "execute_result"
    }
   ],
   "source": [
    "metrics.confusion_matrix(y_train, pred_train_rf)"
   ]
  },
  {
   "cell_type": "markdown",
   "id": "6a62cc3b",
   "metadata": {},
   "source": [
    "### Q 1.9 Validate the Random Forest Model on test Dataset and state the performance matrices. Also state interpretation from the model"
   ]
  },
  {
   "cell_type": "code",
   "execution_count": 30,
   "id": "c30b6ad5",
   "metadata": {},
   "outputs": [],
   "source": [
    "pred_test_rf = best_grid.predict(X_test)"
   ]
  },
  {
   "cell_type": "code",
   "execution_count": 31,
   "id": "63c2dbc8",
   "metadata": {},
   "outputs": [
    {
     "data": {
      "text/plain": [
       "array([[1042,    0],\n",
       "       [   0,  142]], dtype=int64)"
      ]
     },
     "execution_count": 31,
     "metadata": {},
     "output_type": "execute_result"
    }
   ],
   "source": [
    "metrics.confusion_matrix(y_test, pred_test_rf)"
   ]
  },
  {
   "cell_type": "code",
   "execution_count": 32,
   "id": "45ed5633",
   "metadata": {},
   "outputs": [
    {
     "name": "stdout",
     "output_type": "stream",
     "text": [
      "              precision    recall  f1-score   support\n",
      "\n",
      "           0       1.00      1.00      1.00      1042\n",
      "           1       1.00      1.00      1.00       142\n",
      "\n",
      "    accuracy                           1.00      1184\n",
      "   macro avg       1.00      1.00      1.00      1184\n",
      "weighted avg       1.00      1.00      1.00      1184\n",
      "\n"
     ]
    }
   ],
   "source": [
    "print(metrics.classification_report(y_test, pred_test_rf))"
   ]
  },
  {
   "cell_type": "markdown",
   "id": "a5c2ad2d",
   "metadata": {},
   "source": [
    "### Q 1.10 Build a LDA Model on Train Dataset. Also showcase your model building approach"
   ]
  },
  {
   "cell_type": "code",
   "execution_count": 33,
   "id": "80c8cd43",
   "metadata": {},
   "outputs": [],
   "source": [
    "from sklearn.discriminant_analysis import LinearDiscriminantAnalysis\n",
    "from sklearn.metrics import roc_curve"
   ]
  },
  {
   "cell_type": "code",
   "execution_count": 34,
   "id": "6a7a1d8b",
   "metadata": {},
   "outputs": [],
   "source": [
    "LDA = LinearDiscriminantAnalysis()"
   ]
  },
  {
   "cell_type": "code",
   "execution_count": 35,
   "id": "2d08f3b0",
   "metadata": {},
   "outputs": [],
   "source": [
    "lda_model = LDA.fit(X_train, y_train)"
   ]
  },
  {
   "cell_type": "code",
   "execution_count": 36,
   "id": "8601b655",
   "metadata": {},
   "outputs": [],
   "source": [
    "pred_train_lda = lda_model.predict(X_train)\n"
   ]
  },
  {
   "cell_type": "code",
   "execution_count": 37,
   "id": "450e4af1",
   "metadata": {},
   "outputs": [
    {
     "name": "stdout",
     "output_type": "stream",
     "text": [
      "              precision    recall  f1-score   support\n",
      "\n",
      "           0       0.95      0.99      0.97      2157\n",
      "           1       0.84      0.55      0.66       245\n",
      "\n",
      "    accuracy                           0.94      2402\n",
      "   macro avg       0.90      0.77      0.82      2402\n",
      "weighted avg       0.94      0.94      0.94      2402\n",
      "\n"
     ]
    }
   ],
   "source": [
    "print(metrics.classification_report(y_train, pred_train_lda))"
   ]
  },
  {
   "cell_type": "code",
   "execution_count": 38,
   "id": "416e488c",
   "metadata": {},
   "outputs": [],
   "source": [
    "pred_train_lda_prob = lda_model.predict_proba(X_train)[:,1]\n"
   ]
  },
  {
   "cell_type": "code",
   "execution_count": 39,
   "id": "6ef66f9b",
   "metadata": {},
   "outputs": [],
   "source": [
    "fpr, tpr, thresholds = roc_curve(y_train,pred_train_lda_prob)"
   ]
  },
  {
   "cell_type": "code",
   "execution_count": 40,
   "id": "43f3c69d",
   "metadata": {},
   "outputs": [
    {
     "data": {
      "text/plain": [
       "0.071556263941775"
      ]
     },
     "execution_count": 40,
     "metadata": {},
     "output_type": "execute_result"
    }
   ],
   "source": [
    "optimal_idx = np.argmax(tpr - fpr)\n",
    "optimal_threshold = thresholds[optimal_idx]\n",
    "optimal_threshold"
   ]
  },
  {
   "cell_type": "code",
   "execution_count": 41,
   "id": "20ffb73b",
   "metadata": {},
   "outputs": [],
   "source": [
    "y_class_pred_train=[]\n",
    "for i in range(0,len(pred_train_lda_prob)):\n",
    "    if np.array(pred_train_lda_prob)[i]>0.071:\n",
    "        a=1\n",
    "    else:\n",
    "        a=0\n",
    "    y_class_pred_train.append(a)"
   ]
  },
  {
   "cell_type": "code",
   "execution_count": 42,
   "id": "637a3b3a",
   "metadata": {},
   "outputs": [
    {
     "data": {
      "text/plain": [
       "array([[2003,  154],\n",
       "       [  25,  220]], dtype=int64)"
      ]
     },
     "execution_count": 42,
     "metadata": {},
     "output_type": "execute_result"
    }
   ],
   "source": [
    "metrics.confusion_matrix(y_train,y_class_pred_train)"
   ]
  },
  {
   "cell_type": "code",
   "execution_count": 43,
   "id": "ffd26463",
   "metadata": {},
   "outputs": [
    {
     "name": "stdout",
     "output_type": "stream",
     "text": [
      "              precision    recall  f1-score   support\n",
      "\n",
      "           0      0.988     0.929     0.957      2157\n",
      "           1      0.588     0.898     0.711       245\n",
      "\n",
      "    accuracy                          0.925      2402\n",
      "   macro avg      0.788     0.913     0.834      2402\n",
      "weighted avg      0.947     0.925     0.932      2402\n",
      "\n"
     ]
    }
   ],
   "source": [
    "print(metrics.classification_report(y_train, y_class_pred_train,digits=3))"
   ]
  },
  {
   "cell_type": "markdown",
   "id": "c74dbb6d",
   "metadata": {},
   "source": [
    "### 1.11 Validate the LDA Model on test Dataset and state the performance matrices. Also state interpretation from the model"
   ]
  },
  {
   "cell_type": "code",
   "execution_count": 44,
   "id": "d4b3e921",
   "metadata": {},
   "outputs": [],
   "source": [
    "pred_test_lda = lda_model.predict(X_test)\n",
    "pred_test_lda_prob = lda_model.predict_proba(X_test)[:,1]"
   ]
  },
  {
   "cell_type": "code",
   "execution_count": 45,
   "id": "d2d22c6d",
   "metadata": {},
   "outputs": [
    {
     "name": "stdout",
     "output_type": "stream",
     "text": [
      "              precision    recall  f1-score   support\n",
      "\n",
      "           0       0.94      0.99      0.96      1042\n",
      "           1       0.87      0.56      0.68       142\n",
      "\n",
      "    accuracy                           0.94      1184\n",
      "   macro avg       0.91      0.77      0.82      1184\n",
      "weighted avg       0.93      0.94      0.93      1184\n",
      "\n"
     ]
    }
   ],
   "source": [
    "print(metrics.classification_report(y_test, pred_test_lda))"
   ]
  },
  {
   "cell_type": "code",
   "execution_count": 46,
   "id": "8622e28b",
   "metadata": {},
   "outputs": [],
   "source": [
    "y_class_pred_test=[]\n",
    "for i in range(0,len(pred_test_lda_prob)):\n",
    "    if np.array(pred_test_lda_prob)[i]>0.071:\n",
    "        a=1\n",
    "    else:\n",
    "        a=0\n",
    "    y_class_pred_test.append(a)"
   ]
  },
  {
   "cell_type": "code",
   "execution_count": 47,
   "id": "fa20bd1f",
   "metadata": {},
   "outputs": [
    {
     "data": {
      "text/plain": [
       "array([[944,  98],\n",
       "       [ 20, 122]], dtype=int64)"
      ]
     },
     "execution_count": 47,
     "metadata": {},
     "output_type": "execute_result"
    }
   ],
   "source": [
    "metrics.confusion_matrix(y_test, y_class_pred_test)"
   ]
  },
  {
   "cell_type": "code",
   "execution_count": 48,
   "id": "56ddc5bb",
   "metadata": {},
   "outputs": [
    {
     "name": "stdout",
     "output_type": "stream",
     "text": [
      "              precision    recall  f1-score   support\n",
      "\n",
      "           0      0.979     0.906     0.941      1042\n",
      "           1      0.555     0.859     0.674       142\n",
      "\n",
      "    accuracy                          0.900      1184\n",
      "   macro avg      0.767     0.883     0.808      1184\n",
      "weighted avg      0.928     0.900     0.909      1184\n",
      "\n"
     ]
    }
   ],
   "source": [
    "print(metrics.classification_report(y_test, y_class_pred_test,digits=3))"
   ]
  },
  {
   "cell_type": "markdown",
   "id": "e1b4b34e",
   "metadata": {},
   "source": [
    "### 1.12 Compare the performances of Logistics, Radom Forest and LDA models (include ROC Curve)"
   ]
  },
  {
   "cell_type": "code",
   "execution_count": 49,
   "id": "e538068d",
   "metadata": {},
   "outputs": [
    {
     "name": "stdout",
     "output_type": "stream",
     "text": [
      "AUC: 0.968\n"
     ]
    },
    {
     "data": {
      "image/png": "[encoded data removed]",
      "text/plain": [
       "<Figure size 432x288 with 1 Axes>"
      ]
     },
     "metadata": {
      "needs_background": "light"
     },
     "output_type": "display_data"
    }
   ],
   "source": [
    "# LDA Train data - 0.5 Threshold\n",
    "\n",
    "auc = roc_auc_score(y_train, pred_train_lda_prob)\n",
    "print('AUC: %.3f' % auc)\n",
    "fpr, tpr, thresholds = roc_curve(y_train, pred_train_lda_prob)\n",
    "plt.plot([0, 1], [0, 1], linestyle='--')\n",
    "plt.plot(fpr, tpr, marker='.')\n",
    "plt.show()"
   ]
  },
  {
   "cell_type": "code",
   "execution_count": 50,
   "id": "551ff450",
   "metadata": {},
   "outputs": [
    {
     "name": "stdout",
     "output_type": "stream",
     "text": [
      "AUC: 0.913\n"
     ]
    },
    {
     "data": {
      "image/png": "[encoded data removed]",
      "text/plain": [
       "<Figure size 432x288 with 1 Axes>"
      ]
     },
     "metadata": {
      "needs_background": "light"
     },
     "output_type": "display_data"
    }
   ],
   "source": [
    "# LDA Train data - 0.071 Threshold\n",
    "\n",
    "auc = roc_auc_score(y_train, y_class_pred_train)\n",
    "print('AUC: %.3f' % auc)\n",
    "fpr, tpr, thresholds = roc_curve(y_train, y_class_pred_train)\n",
    "plt.plot([0, 1], [0, 1], linestyle='--')\n",
    "plt.plot(fpr, tpr, marker='.')\n",
    "plt.show()"
   ]
  },
  {
   "cell_type": "code",
   "execution_count": 51,
   "id": "db1f4fdf",
   "metadata": {},
   "outputs": [
    {
     "name": "stdout",
     "output_type": "stream",
     "text": [
      "AUC: 0.955\n"
     ]
    },
    {
     "data": {
      "image/png": "[encoded data removed]",
      "text/plain": [
       "<Figure size 432x288 with 1 Axes>"
      ]
     },
     "metadata": {
      "needs_background": "light"
     },
     "output_type": "display_data"
    }
   ],
   "source": [
    "# LDA Test data - 0.5 Threshold\n",
    "\n",
    "auc = roc_auc_score(y_test, pred_test_lda_prob)\n",
    "print('AUC: %.3f' % auc)\n",
    "fpr, tpr, thresholds = roc_curve(y_test, pred_test_lda_prob)\n",
    "plt.plot([0, 1], [0, 1], linestyle='--')\n",
    "plt.plot(fpr, tpr, marker='.')\n",
    "plt.show()"
   ]
  },
  {
   "cell_type": "code",
   "execution_count": 52,
   "id": "417d917d",
   "metadata": {},
   "outputs": [
    {
     "name": "stdout",
     "output_type": "stream",
     "text": [
      "AUC: 0.883\n"
     ]
    },
    {
     "data": {
      "image/png": "[encoded data removed]",
      "text/plain": [
       "<Figure size 432x288 with 1 Axes>"
      ]
     },
     "metadata": {
      "needs_background": "light"
     },
     "output_type": "display_data"
    }
   ],
   "source": [
    "# LDA Test data - 0.071 Threshold\n",
    "\n",
    "auc = roc_auc_score(y_test, y_class_pred_test)\n",
    "print('AUC: %.3f' % auc)\n",
    "fpr, tpr, thresholds = roc_curve(y_test, y_class_pred_test)\n",
    "plt.plot([0, 1], [0, 1], linestyle='--')\n",
    "plt.plot(fpr, tpr, marker='.')\n",
    "plt.show()"
   ]
  },
  {
   "cell_type": "code",
   "execution_count": 53,
   "id": "f0bd0484",
   "metadata": {},
   "outputs": [
    {
     "name": "stdout",
     "output_type": "stream",
     "text": [
      "AUC: 1.000\n"
     ]
    },
    {
     "data": {
      "image/png": "[encoded data removed]",
      "text/plain": [
       "<Figure size 432x288 with 1 Axes>"
      ]
     },
     "metadata": {
      "needs_background": "light"
     },
     "output_type": "display_data"
    }
   ],
   "source": [
    "# RF - Train Data\n",
    "\n",
    "probs = best_grid.predict_proba(X_train)\n",
    "probs = probs[:, 1]\n",
    "auc = roc_auc_score(y_train, probs)\n",
    "print('AUC: %.3f' % auc)\n",
    "fpr, tpr, thresholds = roc_curve(y_train, probs)\n",
    "plt.plot([0, 1], [0, 1], linestyle='--')\n",
    "plt.plot(fpr, tpr, marker='.')\n",
    "plt.show()"
   ]
  },
  {
   "cell_type": "code",
   "execution_count": 54,
   "id": "6256037e",
   "metadata": {},
   "outputs": [
    {
     "name": "stdout",
     "output_type": "stream",
     "text": [
      "AUC: 1.000\n"
     ]
    },
    {
     "data": {
      "image/png": "[encoded data removed]",
      "text/plain": [
       "<Figure size 432x288 with 1 Axes>"
      ]
     },
     "metadata": {
      "needs_background": "light"
     },
     "output_type": "display_data"
    }
   ],
   "source": [
    "# RF - Test Data\n",
    "\n",
    "probs = best_grid.predict_proba(X_test)\n",
    "probs = probs[:, 1]\n",
    "auc = roc_auc_score(y_test, probs)\n",
    "print('AUC: %.3f' % auc)\n",
    "fpr, tpr, thresholds = roc_curve(y_test, probs)\n",
    "plt.plot([0, 1], [0, 1], linestyle='--')\n",
    "plt.plot(fpr, tpr, marker='.')\n",
    "plt.show()"
   ]
  },
  {
   "cell_type": "markdown",
   "id": "af9b1ec4",
   "metadata": {},
   "source": [
    "# Market Risk Problem"
   ]
  },
  {
   "cell_type": "code",
   "execution_count": null,
   "id": "6b6e54f9",
   "metadata": {},
   "outputs": [],
   "source": []
  },
  {
   "cell_type": "code",
   "execution_count": null,
   "id": "ee083d8a",
   "metadata": {},
   "outputs": [],
   "source": []
  },
  {
   "cell_type": "code",
   "execution_count": 55,
   "id": "db9555d6",
   "metadata": {},
   "outputs": [],
   "source": [
    "stock_prices = pd.read_csv('Market+Risk+Dataset.csv')"
   ]
  },
  {
   "cell_type": "code",
   "execution_count": 56,
   "id": "b11a8d07",
   "metadata": {},
   "outputs": [
    {
     "data": {
      "text/html": [
       "<div>\n",
       "<style scoped>\n",
       "    .dataframe tbody tr th:only-of-type {\n",
       "        vertical-align: middle;\n",
       "    }\n",
       "\n",
       "    .dataframe tbody tr th {\n",
       "        vertical-align: top;\n",
       "    }\n",
       "\n",
       "    .dataframe thead th {\n",
       "        text-align: right;\n",
       "    }\n",
       "</style>\n",
       "<table border=\"1\" class=\"dataframe\">\n",
       "  <thead>\n",
       "    <tr style=\"text-align: right;\">\n",
       "      <th></th>\n",
       "      <th>Date</th>\n",
       "      <th>Infosys</th>\n",
       "      <th>Indian Hotel</th>\n",
       "      <th>Mahindra &amp; Mahindra</th>\n",
       "      <th>Axis Bank</th>\n",
       "      <th>SAIL</th>\n",
       "      <th>Shree Cement</th>\n",
       "      <th>Sun Pharma</th>\n",
       "      <th>Jindal Steel</th>\n",
       "      <th>Idea Vodafone</th>\n",
       "      <th>Jet Airways</th>\n",
       "    </tr>\n",
       "  </thead>\n",
       "  <tbody>\n",
       "    <tr>\n",
       "      <th>0</th>\n",
       "      <td>31-03-2014</td>\n",
       "      <td>264</td>\n",
       "      <td>69</td>\n",
       "      <td>455</td>\n",
       "      <td>263</td>\n",
       "      <td>68</td>\n",
       "      <td>5543</td>\n",
       "      <td>555</td>\n",
       "      <td>298</td>\n",
       "      <td>83</td>\n",
       "      <td>278</td>\n",
       "    </tr>\n",
       "    <tr>\n",
       "      <th>1</th>\n",
       "      <td>07-04-2014</td>\n",
       "      <td>257</td>\n",
       "      <td>68</td>\n",
       "      <td>458</td>\n",
       "      <td>276</td>\n",
       "      <td>70</td>\n",
       "      <td>5728</td>\n",
       "      <td>610</td>\n",
       "      <td>279</td>\n",
       "      <td>84</td>\n",
       "      <td>303</td>\n",
       "    </tr>\n",
       "    <tr>\n",
       "      <th>2</th>\n",
       "      <td>14-04-2014</td>\n",
       "      <td>254</td>\n",
       "      <td>68</td>\n",
       "      <td>454</td>\n",
       "      <td>270</td>\n",
       "      <td>68</td>\n",
       "      <td>5649</td>\n",
       "      <td>607</td>\n",
       "      <td>279</td>\n",
       "      <td>83</td>\n",
       "      <td>280</td>\n",
       "    </tr>\n",
       "    <tr>\n",
       "      <th>3</th>\n",
       "      <td>21-04-2014</td>\n",
       "      <td>253</td>\n",
       "      <td>68</td>\n",
       "      <td>488</td>\n",
       "      <td>283</td>\n",
       "      <td>68</td>\n",
       "      <td>5692</td>\n",
       "      <td>604</td>\n",
       "      <td>274</td>\n",
       "      <td>83</td>\n",
       "      <td>282</td>\n",
       "    </tr>\n",
       "    <tr>\n",
       "      <th>4</th>\n",
       "      <td>28-04-2014</td>\n",
       "      <td>256</td>\n",
       "      <td>65</td>\n",
       "      <td>482</td>\n",
       "      <td>282</td>\n",
       "      <td>63</td>\n",
       "      <td>5582</td>\n",
       "      <td>611</td>\n",
       "      <td>238</td>\n",
       "      <td>79</td>\n",
       "      <td>243</td>\n",
       "    </tr>\n",
       "  </tbody>\n",
       "</table>\n",
       "</div>"
      ],
      "text/plain": [
       "         Date  Infosys  Indian Hotel  Mahindra & Mahindra  Axis Bank  SAIL  \\\n",
       "0  31-03-2014      264            69                  455        263    68   \n",
       "1  07-04-2014      257            68                  458        276    70   \n",
       "2  14-04-2014      254            68                  454        270    68   \n",
       "3  21-04-2014      253            68                  488        283    68   \n",
       "4  28-04-2014      256            65                  482        282    63   \n",
       "\n",
       "   Shree Cement  Sun Pharma  Jindal Steel  Idea Vodafone  Jet Airways  \n",
       "0          5543         555           298             83          278  \n",
       "1          5728         610           279             84          303  \n",
       "2          5649         607           279             83          280  \n",
       "3          5692         604           274             83          282  \n",
       "4          5582         611           238             79          243  "
      ]
     },
     "execution_count": 56,
     "metadata": {},
     "output_type": "execute_result"
    }
   ],
   "source": [
    "stock_prices.head()"
   ]
  },
  {
   "cell_type": "code",
   "execution_count": 57,
   "id": "a075f430",
   "metadata": {},
   "outputs": [
    {
     "data": {
      "text/html": [
       "<div>\n",
       "<style scoped>\n",
       "    .dataframe tbody tr th:only-of-type {\n",
       "        vertical-align: middle;\n",
       "    }\n",
       "\n",
       "    .dataframe tbody tr th {\n",
       "        vertical-align: top;\n",
       "    }\n",
       "\n",
       "    .dataframe thead th {\n",
       "        text-align: right;\n",
       "    }\n",
       "</style>\n",
       "<table border=\"1\" class=\"dataframe\">\n",
       "  <thead>\n",
       "    <tr style=\"text-align: right;\">\n",
       "      <th></th>\n",
       "      <th>Date</th>\n",
       "      <th>Infosys</th>\n",
       "      <th>Indian_Hotel</th>\n",
       "      <th>Mahindra_&amp;_Mahindra</th>\n",
       "      <th>Axis_Bank</th>\n",
       "      <th>SAIL</th>\n",
       "      <th>Shree_Cement</th>\n",
       "      <th>Sun_Pharma</th>\n",
       "      <th>Jindal_Steel</th>\n",
       "      <th>Idea_Vodafone</th>\n",
       "      <th>Jet_Airways</th>\n",
       "    </tr>\n",
       "  </thead>\n",
       "  <tbody>\n",
       "    <tr>\n",
       "      <th>0</th>\n",
       "      <td>31-03-2014</td>\n",
       "      <td>264</td>\n",
       "      <td>69</td>\n",
       "      <td>455</td>\n",
       "      <td>263</td>\n",
       "      <td>68</td>\n",
       "      <td>5543</td>\n",
       "      <td>555</td>\n",
       "      <td>298</td>\n",
       "      <td>83</td>\n",
       "      <td>278</td>\n",
       "    </tr>\n",
       "    <tr>\n",
       "      <th>1</th>\n",
       "      <td>07-04-2014</td>\n",
       "      <td>257</td>\n",
       "      <td>68</td>\n",
       "      <td>458</td>\n",
       "      <td>276</td>\n",
       "      <td>70</td>\n",
       "      <td>5728</td>\n",
       "      <td>610</td>\n",
       "      <td>279</td>\n",
       "      <td>84</td>\n",
       "      <td>303</td>\n",
       "    </tr>\n",
       "    <tr>\n",
       "      <th>2</th>\n",
       "      <td>14-04-2014</td>\n",
       "      <td>254</td>\n",
       "      <td>68</td>\n",
       "      <td>454</td>\n",
       "      <td>270</td>\n",
       "      <td>68</td>\n",
       "      <td>5649</td>\n",
       "      <td>607</td>\n",
       "      <td>279</td>\n",
       "      <td>83</td>\n",
       "      <td>280</td>\n",
       "    </tr>\n",
       "    <tr>\n",
       "      <th>3</th>\n",
       "      <td>21-04-2014</td>\n",
       "      <td>253</td>\n",
       "      <td>68</td>\n",
       "      <td>488</td>\n",
       "      <td>283</td>\n",
       "      <td>68</td>\n",
       "      <td>5692</td>\n",
       "      <td>604</td>\n",
       "      <td>274</td>\n",
       "      <td>83</td>\n",
       "      <td>282</td>\n",
       "    </tr>\n",
       "    <tr>\n",
       "      <th>4</th>\n",
       "      <td>28-04-2014</td>\n",
       "      <td>256</td>\n",
       "      <td>65</td>\n",
       "      <td>482</td>\n",
       "      <td>282</td>\n",
       "      <td>63</td>\n",
       "      <td>5582</td>\n",
       "      <td>611</td>\n",
       "      <td>238</td>\n",
       "      <td>79</td>\n",
       "      <td>243</td>\n",
       "    </tr>\n",
       "  </tbody>\n",
       "</table>\n",
       "</div>"
      ],
      "text/plain": [
       "         Date  Infosys  Indian_Hotel  Mahindra_&_Mahindra  Axis_Bank  SAIL  \\\n",
       "0  31-03-2014      264            69                  455        263    68   \n",
       "1  07-04-2014      257            68                  458        276    70   \n",
       "2  14-04-2014      254            68                  454        270    68   \n",
       "3  21-04-2014      253            68                  488        283    68   \n",
       "4  28-04-2014      256            65                  482        282    63   \n",
       "\n",
       "   Shree_Cement  Sun_Pharma  Jindal_Steel  Idea_Vodafone  Jet_Airways  \n",
       "0          5543         555           298             83          278  \n",
       "1          5728         610           279             84          303  \n",
       "2          5649         607           279             83          280  \n",
       "3          5692         604           274             83          282  \n",
       "4          5582         611           238             79          243  "
      ]
     },
     "execution_count": 57,
     "metadata": {},
     "output_type": "execute_result"
    }
   ],
   "source": [
    "stock_prices.columns = stock_prices.columns.str.replace(' ', '_').str.replace('.', '')\n",
    "stock_prices.head()"
   ]
  },
  {
   "cell_type": "code",
   "execution_count": 58,
   "id": "09e82069",
   "metadata": {},
   "outputs": [
    {
     "name": "stdout",
     "output_type": "stream",
     "text": [
      "<class 'pandas.core.frame.DataFrame'>\n",
      "RangeIndex: 314 entries, 0 to 313\n",
      "Data columns (total 11 columns):\n",
      " #   Column               Non-Null Count  Dtype \n",
      "---  ------               --------------  ----- \n",
      " 0   Date                 314 non-null    object\n",
      " 1   Infosys              314 non-null    int64 \n",
      " 2   Indian_Hotel         314 non-null    int64 \n",
      " 3   Mahindra_&_Mahindra  314 non-null    int64 \n",
      " 4   Axis_Bank            314 non-null    int64 \n",
      " 5   SAIL                 314 non-null    int64 \n",
      " 6   Shree_Cement         314 non-null    int64 \n",
      " 7   Sun_Pharma           314 non-null    int64 \n",
      " 8   Jindal_Steel         314 non-null    int64 \n",
      " 9   Idea_Vodafone        314 non-null    int64 \n",
      " 10  Jet_Airways          314 non-null    int64 \n",
      "dtypes: int64(10), object(1)\n",
      "memory usage: 27.1+ KB\n"
     ]
    }
   ],
   "source": [
    "stock_prices.info()"
   ]
  },
  {
   "cell_type": "code",
   "execution_count": 59,
   "id": "684ecf24",
   "metadata": {},
   "outputs": [
    {
     "data": {
      "text/plain": [
       "(314, 11)"
      ]
     },
     "execution_count": 59,
     "metadata": {},
     "output_type": "execute_result"
    }
   ],
   "source": [
    "stock_prices.shape"
   ]
  },
  {
   "cell_type": "code",
   "execution_count": 60,
   "id": "6083bf51",
   "metadata": {},
   "outputs": [
    {
     "data": {
      "text/plain": [
       "0"
      ]
     },
     "execution_count": 60,
     "metadata": {},
     "output_type": "execute_result"
    }
   ],
   "source": [
    "stock_prices.isnull().sum().sum()"
   ]
  },
  {
   "cell_type": "markdown",
   "id": "fdf3b54e",
   "metadata": {},
   "source": [
    "### 2.1 Draw Stock Price Graph(Stock Price vs Time) for any 2 given stocks with inference"
   ]
  },
  {
   "cell_type": "code",
   "execution_count": 61,
   "id": "505b7e25",
   "metadata": {},
   "outputs": [
    {
     "data": {
      "image/png": "[encoded data removed]",
      "text/plain": [
       "<Figure size 432x288 with 1 Axes>"
      ]
     },
     "metadata": {
      "needs_background": "light"
     },
     "output_type": "display_data"
    }
   ],
   "source": [
    "plt.figure(figsize = (6, 4))\n",
    "stock_prices['dates'] = [pd.to_datetime(d) for d in stock_prices['Date']]\n",
    "plt.scatter(stock_prices['dates'], stock_prices['Infosys'], edgecolors='b', color = 'lightblue')\n",
    "plt.xlabel('Year')\n",
    "plt.ylabel('Infosys')\n",
    "plt.title('Infosys over the years')\n",
    "plt.show()"
   ]
  },
  {
   "cell_type": "code",
   "execution_count": 62,
   "id": "7c85c01a",
   "metadata": {},
   "outputs": [
    {
     "data": {
      "image/png": "[encoded data removed]",
      "text/plain": [
       "<Figure size 432x288 with 1 Axes>"
      ]
     },
     "metadata": {
      "needs_background": "light"
     },
     "output_type": "display_data"
    }
   ],
   "source": [
    "plt.figure(figsize = (6, 4))\n",
    "stock_prices['dates'] = [pd.to_datetime(d) for d in stock_prices['Date']]\n",
    "plt.scatter(stock_prices['dates'], stock_prices['Axis_Bank'], edgecolors='r', color = 'lightblue')\n",
    "plt.xlabel('Year')\n",
    "plt.ylabel('Axis_Bank')\n",
    "plt.title('Axis Bank over the years')\n",
    "plt.show()"
   ]
  },
  {
   "cell_type": "markdown",
   "id": "ba23251d",
   "metadata": {},
   "source": [
    "### 2.2 Calculate Returns for all stocks with inference"
   ]
  },
  {
   "cell_type": "code",
   "execution_count": 63,
   "id": "6a5c56e6",
   "metadata": {},
   "outputs": [
    {
     "data": {
      "text/html": [
       "<div>\n",
       "<style scoped>\n",
       "    .dataframe tbody tr th:only-of-type {\n",
       "        vertical-align: middle;\n",
       "    }\n",
       "\n",
       "    .dataframe tbody tr th {\n",
       "        vertical-align: top;\n",
       "    }\n",
       "\n",
       "    .dataframe thead th {\n",
       "        text-align: right;\n",
       "    }\n",
       "</style>\n",
       "<table border=\"1\" class=\"dataframe\">\n",
       "  <thead>\n",
       "    <tr style=\"text-align: right;\">\n",
       "      <th></th>\n",
       "      <th>Infosys</th>\n",
       "      <th>Indian_Hotel</th>\n",
       "      <th>Mahindra_&amp;_Mahindra</th>\n",
       "      <th>Axis_Bank</th>\n",
       "      <th>SAIL</th>\n",
       "      <th>Shree_Cement</th>\n",
       "      <th>Sun_Pharma</th>\n",
       "      <th>Jindal_Steel</th>\n",
       "      <th>Idea_Vodafone</th>\n",
       "      <th>Jet_Airways</th>\n",
       "    </tr>\n",
       "  </thead>\n",
       "  <tbody>\n",
       "    <tr>\n",
       "      <th>0</th>\n",
       "      <td>NaN</td>\n",
       "      <td>NaN</td>\n",
       "      <td>NaN</td>\n",
       "      <td>NaN</td>\n",
       "      <td>NaN</td>\n",
       "      <td>NaN</td>\n",
       "      <td>NaN</td>\n",
       "      <td>NaN</td>\n",
       "      <td>NaN</td>\n",
       "      <td>NaN</td>\n",
       "    </tr>\n",
       "    <tr>\n",
       "      <th>1</th>\n",
       "      <td>-0.026873</td>\n",
       "      <td>-0.014599</td>\n",
       "      <td>0.006572</td>\n",
       "      <td>0.048247</td>\n",
       "      <td>0.028988</td>\n",
       "      <td>0.032831</td>\n",
       "      <td>0.094491</td>\n",
       "      <td>-0.065882</td>\n",
       "      <td>0.011976</td>\n",
       "      <td>0.086112</td>\n",
       "    </tr>\n",
       "    <tr>\n",
       "      <th>2</th>\n",
       "      <td>-0.011742</td>\n",
       "      <td>0.000000</td>\n",
       "      <td>-0.008772</td>\n",
       "      <td>-0.021979</td>\n",
       "      <td>-0.028988</td>\n",
       "      <td>-0.013888</td>\n",
       "      <td>-0.004930</td>\n",
       "      <td>0.000000</td>\n",
       "      <td>-0.011976</td>\n",
       "      <td>-0.078943</td>\n",
       "    </tr>\n",
       "    <tr>\n",
       "      <th>3</th>\n",
       "      <td>-0.003945</td>\n",
       "      <td>0.000000</td>\n",
       "      <td>0.072218</td>\n",
       "      <td>0.047025</td>\n",
       "      <td>0.000000</td>\n",
       "      <td>0.007583</td>\n",
       "      <td>-0.004955</td>\n",
       "      <td>-0.018084</td>\n",
       "      <td>0.000000</td>\n",
       "      <td>0.007117</td>\n",
       "    </tr>\n",
       "    <tr>\n",
       "      <th>4</th>\n",
       "      <td>0.011788</td>\n",
       "      <td>-0.045120</td>\n",
       "      <td>-0.012371</td>\n",
       "      <td>-0.003540</td>\n",
       "      <td>-0.076373</td>\n",
       "      <td>-0.019515</td>\n",
       "      <td>0.011523</td>\n",
       "      <td>-0.140857</td>\n",
       "      <td>-0.049393</td>\n",
       "      <td>-0.148846</td>\n",
       "    </tr>\n",
       "  </tbody>\n",
       "</table>\n",
       "</div>"
      ],
      "text/plain": [
       "    Infosys  Indian_Hotel  Mahindra_&_Mahindra  Axis_Bank      SAIL  \\\n",
       "0       NaN           NaN                  NaN        NaN       NaN   \n",
       "1 -0.026873     -0.014599             0.006572   0.048247  0.028988   \n",
       "2 -0.011742      0.000000            -0.008772  -0.021979 -0.028988   \n",
       "3 -0.003945      0.000000             0.072218   0.047025  0.000000   \n",
       "4  0.011788     -0.045120            -0.012371  -0.003540 -0.076373   \n",
       "\n",
       "   Shree_Cement  Sun_Pharma  Jindal_Steel  Idea_Vodafone  Jet_Airways  \n",
       "0           NaN         NaN           NaN            NaN          NaN  \n",
       "1      0.032831    0.094491     -0.065882       0.011976     0.086112  \n",
       "2     -0.013888   -0.004930      0.000000      -0.011976    -0.078943  \n",
       "3      0.007583   -0.004955     -0.018084       0.000000     0.007117  \n",
       "4     -0.019515    0.011523     -0.140857      -0.049393    -0.148846  "
      ]
     },
     "execution_count": 63,
     "metadata": {},
     "output_type": "execute_result"
    }
   ],
   "source": [
    "stock_returns = np.log(stock_prices.drop(['Date','dates'],axis=1)).diff(axis = 0, periods = 1) \n",
    "stock_returns.head()"
   ]
  },
  {
   "cell_type": "code",
   "execution_count": 64,
   "id": "041523fb",
   "metadata": {},
   "outputs": [
    {
     "data": {
      "text/plain": [
       "Infosys                0.874521\n",
       "Indian_Hotel           0.083382\n",
       "Mahindra_&_Mahindra   -0.471323\n",
       "Axis_Bank              0.365382\n",
       "SAIL                  -1.084013\n",
       "Shree_Cement           1.152290\n",
       "Sun_Pharma            -0.455337\n",
       "Jindal_Steel          -1.290374\n",
       "Idea_Vodafone         -3.320228\n",
       "Jet_Airways           -2.988564\n",
       "dtype: float64"
      ]
     },
     "execution_count": 64,
     "metadata": {},
     "output_type": "execute_result"
    }
   ],
   "source": [
    "stock_returns.iloc[1:,:].sum()"
   ]
  },
  {
   "cell_type": "markdown",
   "id": "37da0801",
   "metadata": {},
   "source": [
    "### 2.3 Calculate Stock Means and Standard Deviation for all stocks with inference"
   ]
  },
  {
   "cell_type": "code",
   "execution_count": 65,
   "id": "a48877f0",
   "metadata": {},
   "outputs": [],
   "source": [
    "stock_means = stock_returns.mean(axis = 0)"
   ]
  },
  {
   "cell_type": "code",
   "execution_count": 66,
   "id": "34bb0005",
   "metadata": {},
   "outputs": [],
   "source": [
    "stock_sd = stock_returns.std(axis = 0)"
   ]
  },
  {
   "cell_type": "code",
   "execution_count": 67,
   "id": "c227ba49",
   "metadata": {},
   "outputs": [],
   "source": [
    "df = pd.DataFrame({'Average':stock_means, 'Volatility': stock_sd})"
   ]
  },
  {
   "cell_type": "code",
   "execution_count": 68,
   "id": "be5e377a",
   "metadata": {},
   "outputs": [
    {
     "data": {
      "text/html": [
       "<div>\n",
       "<style scoped>\n",
       "    .dataframe tbody tr th:only-of-type {\n",
       "        vertical-align: middle;\n",
       "    }\n",
       "\n",
       "    .dataframe tbody tr th {\n",
       "        vertical-align: top;\n",
       "    }\n",
       "\n",
       "    .dataframe thead th {\n",
       "        text-align: right;\n",
       "    }\n",
       "</style>\n",
       "<table border=\"1\" class=\"dataframe\">\n",
       "  <thead>\n",
       "    <tr style=\"text-align: right;\">\n",
       "      <th></th>\n",
       "      <th>Average</th>\n",
       "      <th>Volatility</th>\n",
       "    </tr>\n",
       "  </thead>\n",
       "  <tbody>\n",
       "    <tr>\n",
       "      <th>Infosys</th>\n",
       "      <td>0.002794</td>\n",
       "      <td>0.035070</td>\n",
       "    </tr>\n",
       "    <tr>\n",
       "      <th>Indian_Hotel</th>\n",
       "      <td>0.000266</td>\n",
       "      <td>0.047131</td>\n",
       "    </tr>\n",
       "    <tr>\n",
       "      <th>Mahindra_&amp;_Mahindra</th>\n",
       "      <td>-0.001506</td>\n",
       "      <td>0.040169</td>\n",
       "    </tr>\n",
       "    <tr>\n",
       "      <th>Axis_Bank</th>\n",
       "      <td>0.001167</td>\n",
       "      <td>0.045828</td>\n",
       "    </tr>\n",
       "    <tr>\n",
       "      <th>SAIL</th>\n",
       "      <td>-0.003463</td>\n",
       "      <td>0.062188</td>\n",
       "    </tr>\n",
       "    <tr>\n",
       "      <th>Shree_Cement</th>\n",
       "      <td>0.003681</td>\n",
       "      <td>0.039917</td>\n",
       "    </tr>\n",
       "    <tr>\n",
       "      <th>Sun_Pharma</th>\n",
       "      <td>-0.001455</td>\n",
       "      <td>0.045033</td>\n",
       "    </tr>\n",
       "    <tr>\n",
       "      <th>Jindal_Steel</th>\n",
       "      <td>-0.004123</td>\n",
       "      <td>0.075108</td>\n",
       "    </tr>\n",
       "    <tr>\n",
       "      <th>Idea_Vodafone</th>\n",
       "      <td>-0.010608</td>\n",
       "      <td>0.104315</td>\n",
       "    </tr>\n",
       "    <tr>\n",
       "      <th>Jet_Airways</th>\n",
       "      <td>-0.009548</td>\n",
       "      <td>0.097972</td>\n",
       "    </tr>\n",
       "  </tbody>\n",
       "</table>\n",
       "</div>"
      ],
      "text/plain": [
       "                      Average  Volatility\n",
       "Infosys              0.002794    0.035070\n",
       "Indian_Hotel         0.000266    0.047131\n",
       "Mahindra_&_Mahindra -0.001506    0.040169\n",
       "Axis_Bank            0.001167    0.045828\n",
       "SAIL                -0.003463    0.062188\n",
       "Shree_Cement         0.003681    0.039917\n",
       "Sun_Pharma          -0.001455    0.045033\n",
       "Jindal_Steel        -0.004123    0.075108\n",
       "Idea_Vodafone       -0.010608    0.104315\n",
       "Jet_Airways         -0.009548    0.097972"
      ]
     },
     "execution_count": 68,
     "metadata": {},
     "output_type": "execute_result"
    }
   ],
   "source": [
    "df"
   ]
  },
  {
   "cell_type": "markdown",
   "id": "d247cd37",
   "metadata": {},
   "source": [
    "### Q 2.4 Draw a plot of Stock Means vs Standard Deviation and state your inference"
   ]
  },
  {
   "cell_type": "code",
   "execution_count": 69,
   "id": "6fd426d3",
   "metadata": {},
   "outputs": [
    {
     "data": {
      "image/png": "[encoded data removed]",
      "text/plain": [
       "<Figure size 432x288 with 1 Axes>"
      ]
     },
     "metadata": {
      "needs_background": "light"
     },
     "output_type": "display_data"
    }
   ],
   "source": [
    "plot = sns.scatterplot(df['Volatility'], df['Average'])\n",
    "plot.axvline(x=0.02,linestyle='--', color = \"red\")\n",
    "plot.axhline(y=0.0,linestyle='--', color = \"red\")\n",
    "plt.show()"
   ]
  },
  {
   "cell_type": "markdown",
   "id": "5a5866f4",
   "metadata": {},
   "source": [
    "### Q 2.5 Conclusion and Recommendations"
   ]
  },
  {
   "cell_type": "code",
   "execution_count": 70,
   "id": "3662b049",
   "metadata": {},
   "outputs": [
    {
     "data": {
      "text/html": [
       "<div>\n",
       "<style scoped>\n",
       "    .dataframe tbody tr th:only-of-type {\n",
       "        vertical-align: middle;\n",
       "    }\n",
       "\n",
       "    .dataframe tbody tr th {\n",
       "        vertical-align: top;\n",
       "    }\n",
       "\n",
       "    .dataframe thead th {\n",
       "        text-align: right;\n",
       "    }\n",
       "</style>\n",
       "<table border=\"1\" class=\"dataframe\">\n",
       "  <thead>\n",
       "    <tr style=\"text-align: right;\">\n",
       "      <th></th>\n",
       "      <th>Average</th>\n",
       "      <th>Volatility</th>\n",
       "    </tr>\n",
       "  </thead>\n",
       "  <tbody>\n",
       "    <tr>\n",
       "      <th>Infosys</th>\n",
       "      <td>0.002794</td>\n",
       "      <td>0.035070</td>\n",
       "    </tr>\n",
       "    <tr>\n",
       "      <th>Shree_Cement</th>\n",
       "      <td>0.003681</td>\n",
       "      <td>0.039917</td>\n",
       "    </tr>\n",
       "    <tr>\n",
       "      <th>Axis_Bank</th>\n",
       "      <td>0.001167</td>\n",
       "      <td>0.045828</td>\n",
       "    </tr>\n",
       "    <tr>\n",
       "      <th>Indian_Hotel</th>\n",
       "      <td>0.000266</td>\n",
       "      <td>0.047131</td>\n",
       "    </tr>\n",
       "  </tbody>\n",
       "</table>\n",
       "</div>"
      ],
      "text/plain": [
       "               Average  Volatility\n",
       "Infosys       0.002794    0.035070\n",
       "Shree_Cement  0.003681    0.039917\n",
       "Axis_Bank     0.001167    0.045828\n",
       "Indian_Hotel  0.000266    0.047131"
      ]
     },
     "execution_count": 70,
     "metadata": {},
     "output_type": "execute_result"
    }
   ],
   "source": [
    "df[df['Average'] > 0.0].sort_values(by = 'Volatility')"
   ]
  },
  {
   "cell_type": "code",
   "execution_count": null,
   "id": "89048dd4",
   "metadata": {},
   "outputs": [],
   "source": []
  }
 ],
 "metadata": {
  "kernelspec": {
   "display_name": "Python 3 (ipykernel)",
   "language": "python",
   "name": "python3"
  },
  "language_info": {
   "codemirror_mode": {
    "name": "ipython",
    "version": 3
   },
   "file_extension": ".py",
   "mimetype": "text/x-python",
   "name": "python",
   "nbconvert_exporter": "python",
   "pygments_lexer": "ipython3",
   "version": "3.9.7"
  }
 },
 "nbformat": 4,
 "nbformat_minor": 5
}
