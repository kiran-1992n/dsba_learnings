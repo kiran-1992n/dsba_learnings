{
 "cells": [
  {
   "cell_type": "markdown",
   "metadata": {},
   "source": [
    "# Load the necessary libraries."
   ]
  },
  {
   "cell_type": "code",
   "execution_count": 2,
   "metadata": {},
   "outputs": [],
   "source": [
    "import scipy.stats as stats # Many functions for probability distributions in python are in scipy.stats\n",
    "import numpy as np\n",
    "import pandas as pd\n",
    "import matplotlib.pyplot as plt\n",
    "import os"
   ]
  },
  {
   "cell_type": "markdown",
   "metadata": {},
   "source": [
    "## Problem Statement 1: \n",
    "### Investment Advisors agree that near retirees, defined as people aged 55 to 65, should have balanced portfolios. Most advisors suggest that the near –retirees have no more than 50% of their investments in stocks. However, during the huge decline in the stock market in 2008, 22% of near retirees had 90% or more of their investments in stocks. \n",
    "### Suppose you have a random sample of 10 people who have labeled as near retirees in 2008. "
   ]
  },
  {
   "cell_type": "markdown",
   "metadata": {},
   "source": [
    "## Question: Define the random variable and the corresponding probability distribution that this random variable follows."
   ]
  },
  {
   "cell_type": "markdown",
   "metadata": {},
   "source": [
    "Let X (near retirees) be a random variable which follows Binomial Distribution with the parameters n = 10 and p = 0.22.\n",
    "\n",
    "X ~ binomial (n=10,p=0.22)"
   ]
  },
  {
   "cell_type": "markdown",
   "metadata": {},
   "source": [
    "## Question 1.1: What is the probability that during 2008 zero near retirees had 90% or more of their investments in stocks?\n"
   ]
  },
  {
   "cell_type": "code",
   "execution_count": 3,
   "metadata": {},
   "outputs": [],
   "source": [
    "n,p = 10,0.22"
   ]
  },
  {
   "cell_type": "code",
   "execution_count": 4,
   "metadata": {},
   "outputs": [],
   "source": [
    "k = 0"
   ]
  },
  {
   "cell_type": "code",
   "execution_count": 5,
   "metadata": {},
   "outputs": [
    {
     "name": "stdout",
     "output_type": "stream",
     "text": [
      "Probability that during 2008, Zero had 90% or more of their investments in stocks is 0.083357758312362 .\n"
     ]
    }
   ],
   "source": [
    "print('Probability that during 2008, Zero had 90% or more of their investments in stocks is',stats.binom.pmf(k,n,p),'.')\n"
   ]
  },
  {
   "cell_type": "markdown",
   "metadata": {},
   "source": [
    "## Question 1.2: What is the probability that during 2008 exactly one near retiree had 90% or more of his investments in stocks?"
   ]
  },
  {
   "cell_type": "code",
   "execution_count": 6,
   "metadata": {},
   "outputs": [
    {
     "name": "stdout",
     "output_type": "stream",
     "text": [
      " Probability that during 2008, exactly one had 90% or more of his investments in stocks is \", 0.23511162600922644 .\n"
     ]
    }
   ],
   "source": [
    "k_2 = 1\n",
    "print(' Probability that during 2008, exactly one had 90% or more of his investments in stocks is \",'\n",
    "      ,stats.binom.pmf(k_2,n,p),'.')"
   ]
  },
  {
   "cell_type": "markdown",
   "metadata": {},
   "source": [
    "## Question 1.3: What is the probability that during 2008 two or fewer near retirees had 90% or more of their investment in stocks?"
   ]
  },
  {
   "cell_type": "code",
   "execution_count": 8,
   "metadata": {},
   "outputs": [
    {
     "name": "stdout",
     "output_type": "stream",
     "text": [
      "Probability that during 2008 two or fewer near retirees had 90% or more of their investment in stocks is 0.6168802942563754\n"
     ]
    }
   ],
   "source": [
    "# Here we have to find Cummilative Probability value for k = 2\n",
    "\n",
    "print('Probability that during 2008 two or fewer near retirees had 90% or more of their investment in stocks is',\n",
    "      stats.binom.cdf(2,n,p))\n",
    "\n",
    "# Other way is to find stats.binom.pmf(x,n,p) for x = 0,1,2 and sum it up."
   ]
  },
  {
   "cell_type": "markdown",
   "metadata": {},
   "source": [
    "## Question 1.4: What is the probability that during 2008 three or more near retirees had 90% or more of their investments in stocks?"
   ]
  },
  {
   "cell_type": "code",
   "execution_count": 9,
   "metadata": {},
   "outputs": [
    {
     "data": {
      "text/plain": [
       "0.38311970574362464"
      ]
     },
     "execution_count": 9,
     "metadata": {},
     "output_type": "execute_result"
    }
   ],
   "source": [
    "# Here we have to find Cummilative Probability value for k >= 3\n",
    "# So we can find 1 - Cummilative Probability value for k = 2\n",
    "\n",
    "1 - stats.binom.cdf(2,n,p)\n"
   ]
  },
  {
   "cell_type": "markdown",
   "metadata": {},
   "source": [
    "## Problem Statement 2: \n",
    "## Assume that number of network errors experienced in a day on a local area network (LAN) is distributed as a Poisson random variable. The mean number of network errors experienced in a day is 2.4. "
   ]
  },
  {
   "cell_type": "markdown",
   "metadata": {},
   "source": [
    "## Question: Define the random variable and the corresponding probability distribution that this random variable follows.\n",
    "### Note: Even though the probability distribution is mentioned in the question it is generally a good practice to write it before hand along with declaring the random variable."
   ]
  },
  {
   "cell_type": "markdown",
   "metadata": {},
   "source": [
    "Let X (network errors) be a random variable which follows Poisson Distribution with the parameter λ = 2.4.\n",
    "\n",
    "X ~ poisson (λ = 2.4)"
   ]
  },
  {
   "cell_type": "markdown",
   "metadata": {},
   "source": [
    "## Question 2.1: What is the probability that in any given day zero network errors will occur?"
   ]
  },
  {
   "cell_type": "code",
   "execution_count": 10,
   "metadata": {},
   "outputs": [
    {
     "data": {
      "text/plain": [
       "0.09071795328941251"
      ]
     },
     "execution_count": 10,
     "metadata": {},
     "output_type": "execute_result"
    }
   ],
   "source": [
    "stats.poisson.pmf(0,2.4)"
   ]
  },
  {
   "cell_type": "markdown",
   "metadata": {},
   "source": [
    "## Question 2.2: What is the probability that in any given day exactly one network error will occur?"
   ]
  },
  {
   "cell_type": "code",
   "execution_count": 11,
   "metadata": {},
   "outputs": [
    {
     "data": {
      "text/plain": [
       "0.21772308789459"
      ]
     },
     "execution_count": 11,
     "metadata": {},
     "output_type": "execute_result"
    }
   ],
   "source": [
    "stats.poisson.pmf(1,2.4)"
   ]
  },
  {
   "cell_type": "markdown",
   "metadata": {},
   "source": [
    "## Question 2.3: What is the probability that in any given day two or more network errors will occur?"
   ]
  },
  {
   "cell_type": "code",
   "execution_count": 13,
   "metadata": {},
   "outputs": [
    {
     "data": {
      "text/plain": [
       "0.6915589588159976"
      ]
     },
     "execution_count": 13,
     "metadata": {},
     "output_type": "execute_result"
    }
   ],
   "source": [
    "# here we need to find Cummilative Probability value for k >= 2\n",
    "# So we can find 1 - Cummilative Probability value for k = 1\n",
    "\n",
    "1 - stats.poisson.cdf(1,2.4)"
   ]
  },
  {
   "cell_type": "markdown",
   "metadata": {},
   "source": [
    "## Question 2.4: What is the probability that in any given day fewer than three network errors will occur?"
   ]
  },
  {
   "cell_type": "code",
   "execution_count": 15,
   "metadata": {},
   "outputs": [
    {
     "data": {
      "text/plain": [
       "0.5697087466575106"
      ]
     },
     "execution_count": 15,
     "metadata": {},
     "output_type": "execute_result"
    }
   ],
   "source": [
    "# here we need to find Cummilative Probability value for k < 3\n",
    "# So we can find Cummilative Probability value for k = 2\n",
    "\n",
    "stats.poisson.cdf(2,2.4)\n",
    "\n",
    "# Other way is to find stats.poisson.pmf(x,n,p) for x = 0,1,2 and sum it up."
   ]
  },
  {
   "cell_type": "markdown",
   "metadata": {},
   "source": [
    "## Problem Statement 3:\n",
    "## The quality control manager of Marilyn’s cookies is inspecting a batch of chocolate–chip cookies that has been just baked. If the production process is in control the mean number of chocolate chips per cookie is 6.0."
   ]
  },
  {
   "cell_type": "markdown",
   "metadata": {},
   "source": [
    "## Question: Define the random variable and the corresponding probability distribution that this random variable follows."
   ]
  },
  {
   "cell_type": "markdown",
   "metadata": {},
   "source": [
    "Let X (chocolate chips) be a random variable which follows Poisson Distribution with the parameter λ = 6.\n",
    "\n",
    "X ~ poisson (λ = 6)"
   ]
  },
  {
   "cell_type": "markdown",
   "metadata": {},
   "source": [
    "## Question 3.1:What is the probability that in any particular cookie being inspected fewer than 5 chocolate chips will be found?"
   ]
  },
  {
   "cell_type": "code",
   "execution_count": 16,
   "metadata": {},
   "outputs": [
    {
     "data": {
      "text/plain": [
       "0.2850565003166312"
      ]
     },
     "execution_count": 16,
     "metadata": {},
     "output_type": "execute_result"
    }
   ],
   "source": [
    "# here we need to find Cummilative Probability value for k < 5\n",
    "# So we can find Cummilative Probability value for k = 4\n",
    "\n",
    "stats.poisson.cdf(4,6)\n",
    "\n",
    "# Other way is to find stats.poisson.pmf(x,n,p) for x = 0,1,2,3,4 and sum it up."
   ]
  },
  {
   "cell_type": "markdown",
   "metadata": {},
   "source": [
    "## Question 3.2: What is the probability that in any particular cookie being inspected exactly five chocolate chips will be found?"
   ]
  },
  {
   "cell_type": "code",
   "execution_count": 17,
   "metadata": {},
   "outputs": [
    {
     "data": {
      "text/plain": [
       "0.16062314104797995"
      ]
     },
     "execution_count": 17,
     "metadata": {},
     "output_type": "execute_result"
    }
   ],
   "source": [
    "stats.poisson.pmf(5,6)"
   ]
  },
  {
   "cell_type": "markdown",
   "metadata": {},
   "source": [
    "## Question 3.3: What is the probability that in any particular cookie being inspected five or more chocolate chips will be found?"
   ]
  },
  {
   "cell_type": "code",
   "execution_count": 18,
   "metadata": {},
   "outputs": [
    {
     "data": {
      "text/plain": [
       "0.7149434996833688"
      ]
     },
     "execution_count": 18,
     "metadata": {},
     "output_type": "execute_result"
    }
   ],
   "source": [
    "# here we need to find Cummilative Probability value for k >= 5\n",
    "# So we can find 1 - Cummilative Probability value for k = 4\n",
    "\n",
    "1 - stats.poisson.cdf(4,6)\n"
   ]
  },
  {
   "cell_type": "markdown",
   "metadata": {},
   "source": [
    "## Question 3.4: What is the probability that in any particular cookie being inspected either four or five chips part will be found?"
   ]
  },
  {
   "cell_type": "code",
   "execution_count": 19,
   "metadata": {},
   "outputs": [
    {
     "data": {
      "text/plain": [
       "0.29447575858796327"
      ]
     },
     "execution_count": 19,
     "metadata": {},
     "output_type": "execute_result"
    }
   ],
   "source": [
    "stats.poisson.pmf(5,6) + stats.poisson.pmf(4,6)"
   ]
  },
  {
   "cell_type": "markdown",
   "metadata": {},
   "source": [
    "## Problem Statement 4:\n",
    "## In a recent year, about two thirds of US households purchased ground coffee. Consider the annual ground coffee expenditures for households  purchasing ground coffee assuming that these expenditures are approximately distributed as a normal random variable with a mean of  ${\\$}$ 65.16 and a Standard Deviation of ${\\$}$ 10.00. "
   ]
  },
  {
   "cell_type": "markdown",
   "metadata": {},
   "source": [
    "## Question: Define the random variable and the corresponding probability distribution that this random variable follows.\n",
    "### Note: Even though the probability distribution is mentioned in the question it is generally a good practice to write it before hand along with declaring the random variable."
   ]
  },
  {
   "cell_type": "markdown",
   "metadata": {},
   "source": [
    "Let X (spending of a household) be a random variable which follows Normal Distribution with the parameter μ = 65.16 and σ = 10.\n",
    "\n",
    "X ~ Normal (μ = 65.16 , σ = 10)"
   ]
  },
  {
   "cell_type": "markdown",
   "metadata": {},
   "source": [
    "## Question 4.1: Find the probability that a household spent less than ${\\$}$35.00."
   ]
  },
  {
   "cell_type": "code",
   "execution_count": 21,
   "metadata": {},
   "outputs": [
    {
     "data": {
      "text/plain": [
       "0.0012806662997021233"
      ]
     },
     "execution_count": 21,
     "metadata": {},
     "output_type": "execute_result"
    }
   ],
   "source": [
    "# Here we need to find area under curve upto from x = 35  \n",
    "z = (35 - 65.16)/10\n",
    "\n",
    "stats.norm.cdf(z)\n"
   ]
  },
  {
   "cell_type": "code",
   "execution_count": 22,
   "metadata": {},
   "outputs": [
    {
     "data": {
      "text/plain": [
       "0.0012806662997021233"
      ]
     },
     "execution_count": 22,
     "metadata": {},
     "output_type": "execute_result"
    }
   ],
   "source": [
    "# Other way is stats.norm.cdf(x,mu,sigma) x = 35, mu = 65.16, sigma = 10\n",
    "stats.norm.cdf(35,65.16,10)"
   ]
  },
  {
   "cell_type": "markdown",
   "metadata": {},
   "source": [
    "## Question 4.2: Find the probability that a household spent more than ${\\$}$60.00."
   ]
  },
  {
   "cell_type": "code",
   "execution_count": 23,
   "metadata": {},
   "outputs": [
    {
     "data": {
      "text/plain": [
       "0.6970727953905248"
      ]
     },
     "execution_count": 23,
     "metadata": {},
     "output_type": "execute_result"
    }
   ],
   "source": [
    "# Here we need to find area under curve starting from x = 60  \n",
    "z = (60 - 65.16)/10\n",
    "1 - stats.norm.cdf(z)"
   ]
  },
  {
   "cell_type": "markdown",
   "metadata": {},
   "source": [
    "## Question 4.3: What is the probability that the households spent between ${\\$}$40.00 and ${\\$}$50.00?"
   ]
  },
  {
   "cell_type": "code",
   "execution_count": 24,
   "metadata": {},
   "outputs": [
    {
     "data": {
      "text/plain": [
       "0.05882491706235944"
      ]
     },
     "execution_count": 24,
     "metadata": {},
     "output_type": "execute_result"
    }
   ],
   "source": [
    "z1 = (50 - 65.16)/10\n",
    "z2 = (40 - 65.16)/10\n",
    "\n",
    "stats.norm.cdf(z1) - stats.norm.cdf(z2)"
   ]
  },
  {
   "cell_type": "markdown",
   "metadata": {},
   "source": [
    "## Question 4.4: 99% of the households spent less than what amount?"
   ]
  },
  {
   "cell_type": "code",
   "execution_count": 27,
   "metadata": {},
   "outputs": [
    {
     "data": {
      "text/plain": [
       "88.4234787404084"
      ]
     },
     "execution_count": 27,
     "metadata": {},
     "output_type": "execute_result"
    }
   ],
   "source": [
    "# Here we need to find 'x' such that area under curve upto 'x' is 99% or 0.99\n",
    "\n",
    "stats.norm.ppf(0.99,65.16,10)"
   ]
  },
  {
   "cell_type": "markdown",
   "metadata": {},
   "source": [
    "So 99% of the households spent less than $88.42"
   ]
  }
 ],
 "metadata": {
  "kernelspec": {
   "display_name": "Python 3",
   "language": "python",
   "name": "python3"
  },
  "language_info": {
   "codemirror_mode": {
    "name": "ipython",
    "version": 3
   },
   "file_extension": ".py",
   "mimetype": "text/x-python",
   "name": "python",
   "nbconvert_exporter": "python",
   "pygments_lexer": "ipython3",
   "version": "3.8.8"
  }
 },
 "nbformat": 4,
 "nbformat_minor": 2
}
